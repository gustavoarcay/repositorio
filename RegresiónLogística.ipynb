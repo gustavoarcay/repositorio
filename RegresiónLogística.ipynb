{
 "cells": [
  {
   "cell_type": "markdown",
   "id": "83b32613-a94f-4acc-8e51-9ea0910df491",
   "metadata": {},
   "source": [
    "## Realizar un análisis exploratorio de los datos para identificar relaciones entre variables, valores atípicos, tendencias, etc."
   ]
  },
  {
   "cell_type": "code",
   "execution_count": 397,
   "id": "d760841d-0408-408a-b3c8-7bdcadb39287",
   "metadata": {},
   "outputs": [],
   "source": [
    "# Cargamos librerias que necesitamos\n",
    "\n",
    "import pandas as pd \n",
    "import numpy as np\n",
    "import seaborn as sns\n",
    "import matplotlib.pyplot as plt\n",
    "\n",
    "# librerias para implementar modelos de ciencias de datos\n",
    "from sklearn import metrics\n",
    "from sklearn.model_selection import train_test_split\n",
    "from sklearn.linear_model import LogisticRegression\n",
    "from sklearn.metrics import classification_report, confusion_matrix"
   ]
  },
  {
   "cell_type": "code",
   "execution_count": 399,
   "id": "42db2641-ab15-4b09-b774-f08e012009e8",
   "metadata": {},
   "outputs": [],
   "source": [
    "# datos en python con variable Analisis\n",
    "\n",
    "Analisis = pd.read_csv('C:/Users/PC/Desktop/bases/DatasetRegresiónLogística/heart_cleveland_upload.csv')"
   ]
  },
  {
   "cell_type": "code",
   "execution_count": 401,
   "id": "5ef13cfe-481a-4621-b424-205db5822ed5",
   "metadata": {},
   "outputs": [
    {
     "data": {
      "text/html": [
       "<div>\n",
       "<style scoped>\n",
       "    .dataframe tbody tr th:only-of-type {\n",
       "        vertical-align: middle;\n",
       "    }\n",
       "\n",
       "    .dataframe tbody tr th {\n",
       "        vertical-align: top;\n",
       "    }\n",
       "\n",
       "    .dataframe thead th {\n",
       "        text-align: right;\n",
       "    }\n",
       "</style>\n",
       "<table border=\"1\" class=\"dataframe\">\n",
       "  <thead>\n",
       "    <tr style=\"text-align: right;\">\n",
       "      <th></th>\n",
       "      <th>age</th>\n",
       "      <th>sex</th>\n",
       "      <th>cp</th>\n",
       "      <th>trestbps</th>\n",
       "      <th>chol</th>\n",
       "      <th>fbs</th>\n",
       "      <th>restecg</th>\n",
       "      <th>thalach</th>\n",
       "      <th>exang</th>\n",
       "      <th>oldpeak</th>\n",
       "      <th>slope</th>\n",
       "      <th>ca</th>\n",
       "      <th>thal</th>\n",
       "      <th>condition</th>\n",
       "    </tr>\n",
       "  </thead>\n",
       "  <tbody>\n",
       "    <tr>\n",
       "      <th>0</th>\n",
       "      <td>69</td>\n",
       "      <td>1</td>\n",
       "      <td>0</td>\n",
       "      <td>160</td>\n",
       "      <td>234</td>\n",
       "      <td>1</td>\n",
       "      <td>2</td>\n",
       "      <td>131</td>\n",
       "      <td>0</td>\n",
       "      <td>0.1</td>\n",
       "      <td>1</td>\n",
       "      <td>1</td>\n",
       "      <td>0</td>\n",
       "      <td>0</td>\n",
       "    </tr>\n",
       "    <tr>\n",
       "      <th>1</th>\n",
       "      <td>69</td>\n",
       "      <td>0</td>\n",
       "      <td>0</td>\n",
       "      <td>140</td>\n",
       "      <td>239</td>\n",
       "      <td>0</td>\n",
       "      <td>0</td>\n",
       "      <td>151</td>\n",
       "      <td>0</td>\n",
       "      <td>1.8</td>\n",
       "      <td>0</td>\n",
       "      <td>2</td>\n",
       "      <td>0</td>\n",
       "      <td>0</td>\n",
       "    </tr>\n",
       "    <tr>\n",
       "      <th>2</th>\n",
       "      <td>66</td>\n",
       "      <td>0</td>\n",
       "      <td>0</td>\n",
       "      <td>150</td>\n",
       "      <td>226</td>\n",
       "      <td>0</td>\n",
       "      <td>0</td>\n",
       "      <td>114</td>\n",
       "      <td>0</td>\n",
       "      <td>2.6</td>\n",
       "      <td>2</td>\n",
       "      <td>0</td>\n",
       "      <td>0</td>\n",
       "      <td>0</td>\n",
       "    </tr>\n",
       "    <tr>\n",
       "      <th>3</th>\n",
       "      <td>65</td>\n",
       "      <td>1</td>\n",
       "      <td>0</td>\n",
       "      <td>138</td>\n",
       "      <td>282</td>\n",
       "      <td>1</td>\n",
       "      <td>2</td>\n",
       "      <td>174</td>\n",
       "      <td>0</td>\n",
       "      <td>1.4</td>\n",
       "      <td>1</td>\n",
       "      <td>1</td>\n",
       "      <td>0</td>\n",
       "      <td>1</td>\n",
       "    </tr>\n",
       "    <tr>\n",
       "      <th>4</th>\n",
       "      <td>64</td>\n",
       "      <td>1</td>\n",
       "      <td>0</td>\n",
       "      <td>110</td>\n",
       "      <td>211</td>\n",
       "      <td>0</td>\n",
       "      <td>2</td>\n",
       "      <td>144</td>\n",
       "      <td>1</td>\n",
       "      <td>1.8</td>\n",
       "      <td>1</td>\n",
       "      <td>0</td>\n",
       "      <td>0</td>\n",
       "      <td>0</td>\n",
       "    </tr>\n",
       "    <tr>\n",
       "      <th>5</th>\n",
       "      <td>64</td>\n",
       "      <td>1</td>\n",
       "      <td>0</td>\n",
       "      <td>170</td>\n",
       "      <td>227</td>\n",
       "      <td>0</td>\n",
       "      <td>2</td>\n",
       "      <td>155</td>\n",
       "      <td>0</td>\n",
       "      <td>0.6</td>\n",
       "      <td>1</td>\n",
       "      <td>0</td>\n",
       "      <td>2</td>\n",
       "      <td>0</td>\n",
       "    </tr>\n",
       "    <tr>\n",
       "      <th>6</th>\n",
       "      <td>63</td>\n",
       "      <td>1</td>\n",
       "      <td>0</td>\n",
       "      <td>145</td>\n",
       "      <td>233</td>\n",
       "      <td>1</td>\n",
       "      <td>2</td>\n",
       "      <td>150</td>\n",
       "      <td>0</td>\n",
       "      <td>2.3</td>\n",
       "      <td>2</td>\n",
       "      <td>0</td>\n",
       "      <td>1</td>\n",
       "      <td>0</td>\n",
       "    </tr>\n",
       "    <tr>\n",
       "      <th>7</th>\n",
       "      <td>61</td>\n",
       "      <td>1</td>\n",
       "      <td>0</td>\n",
       "      <td>134</td>\n",
       "      <td>234</td>\n",
       "      <td>0</td>\n",
       "      <td>0</td>\n",
       "      <td>145</td>\n",
       "      <td>0</td>\n",
       "      <td>2.6</td>\n",
       "      <td>1</td>\n",
       "      <td>2</td>\n",
       "      <td>0</td>\n",
       "      <td>1</td>\n",
       "    </tr>\n",
       "    <tr>\n",
       "      <th>8</th>\n",
       "      <td>60</td>\n",
       "      <td>0</td>\n",
       "      <td>0</td>\n",
       "      <td>150</td>\n",
       "      <td>240</td>\n",
       "      <td>0</td>\n",
       "      <td>0</td>\n",
       "      <td>171</td>\n",
       "      <td>0</td>\n",
       "      <td>0.9</td>\n",
       "      <td>0</td>\n",
       "      <td>0</td>\n",
       "      <td>0</td>\n",
       "      <td>0</td>\n",
       "    </tr>\n",
       "    <tr>\n",
       "      <th>9</th>\n",
       "      <td>59</td>\n",
       "      <td>1</td>\n",
       "      <td>0</td>\n",
       "      <td>178</td>\n",
       "      <td>270</td>\n",
       "      <td>0</td>\n",
       "      <td>2</td>\n",
       "      <td>145</td>\n",
       "      <td>0</td>\n",
       "      <td>4.2</td>\n",
       "      <td>2</td>\n",
       "      <td>0</td>\n",
       "      <td>2</td>\n",
       "      <td>0</td>\n",
       "    </tr>\n",
       "    <tr>\n",
       "      <th>10</th>\n",
       "      <td>59</td>\n",
       "      <td>1</td>\n",
       "      <td>0</td>\n",
       "      <td>170</td>\n",
       "      <td>288</td>\n",
       "      <td>0</td>\n",
       "      <td>2</td>\n",
       "      <td>159</td>\n",
       "      <td>0</td>\n",
       "      <td>0.2</td>\n",
       "      <td>1</td>\n",
       "      <td>0</td>\n",
       "      <td>2</td>\n",
       "      <td>1</td>\n",
       "    </tr>\n",
       "    <tr>\n",
       "      <th>11</th>\n",
       "      <td>59</td>\n",
       "      <td>1</td>\n",
       "      <td>0</td>\n",
       "      <td>160</td>\n",
       "      <td>273</td>\n",
       "      <td>0</td>\n",
       "      <td>2</td>\n",
       "      <td>125</td>\n",
       "      <td>0</td>\n",
       "      <td>0.0</td>\n",
       "      <td>0</td>\n",
       "      <td>0</td>\n",
       "      <td>0</td>\n",
       "      <td>1</td>\n",
       "    </tr>\n",
       "    <tr>\n",
       "      <th>12</th>\n",
       "      <td>59</td>\n",
       "      <td>1</td>\n",
       "      <td>0</td>\n",
       "      <td>134</td>\n",
       "      <td>204</td>\n",
       "      <td>0</td>\n",
       "      <td>0</td>\n",
       "      <td>162</td>\n",
       "      <td>0</td>\n",
       "      <td>0.8</td>\n",
       "      <td>0</td>\n",
       "      <td>2</td>\n",
       "      <td>0</td>\n",
       "      <td>1</td>\n",
       "    </tr>\n",
       "    <tr>\n",
       "      <th>13</th>\n",
       "      <td>58</td>\n",
       "      <td>0</td>\n",
       "      <td>0</td>\n",
       "      <td>150</td>\n",
       "      <td>283</td>\n",
       "      <td>1</td>\n",
       "      <td>2</td>\n",
       "      <td>162</td>\n",
       "      <td>0</td>\n",
       "      <td>1.0</td>\n",
       "      <td>0</td>\n",
       "      <td>0</td>\n",
       "      <td>0</td>\n",
       "      <td>0</td>\n",
       "    </tr>\n",
       "    <tr>\n",
       "      <th>14</th>\n",
       "      <td>56</td>\n",
       "      <td>1</td>\n",
       "      <td>0</td>\n",
       "      <td>120</td>\n",
       "      <td>193</td>\n",
       "      <td>0</td>\n",
       "      <td>2</td>\n",
       "      <td>162</td>\n",
       "      <td>0</td>\n",
       "      <td>1.9</td>\n",
       "      <td>1</td>\n",
       "      <td>0</td>\n",
       "      <td>2</td>\n",
       "      <td>0</td>\n",
       "    </tr>\n",
       "    <tr>\n",
       "      <th>15</th>\n",
       "      <td>52</td>\n",
       "      <td>1</td>\n",
       "      <td>0</td>\n",
       "      <td>118</td>\n",
       "      <td>186</td>\n",
       "      <td>0</td>\n",
       "      <td>2</td>\n",
       "      <td>190</td>\n",
       "      <td>0</td>\n",
       "      <td>0.0</td>\n",
       "      <td>1</td>\n",
       "      <td>0</td>\n",
       "      <td>1</td>\n",
       "      <td>0</td>\n",
       "    </tr>\n",
       "    <tr>\n",
       "      <th>16</th>\n",
       "      <td>52</td>\n",
       "      <td>1</td>\n",
       "      <td>0</td>\n",
       "      <td>152</td>\n",
       "      <td>298</td>\n",
       "      <td>1</td>\n",
       "      <td>0</td>\n",
       "      <td>178</td>\n",
       "      <td>0</td>\n",
       "      <td>1.2</td>\n",
       "      <td>1</td>\n",
       "      <td>0</td>\n",
       "      <td>2</td>\n",
       "      <td>0</td>\n",
       "    </tr>\n",
       "    <tr>\n",
       "      <th>17</th>\n",
       "      <td>51</td>\n",
       "      <td>1</td>\n",
       "      <td>0</td>\n",
       "      <td>125</td>\n",
       "      <td>213</td>\n",
       "      <td>0</td>\n",
       "      <td>2</td>\n",
       "      <td>125</td>\n",
       "      <td>1</td>\n",
       "      <td>1.4</td>\n",
       "      <td>0</td>\n",
       "      <td>1</td>\n",
       "      <td>0</td>\n",
       "      <td>0</td>\n",
       "    </tr>\n",
       "    <tr>\n",
       "      <th>18</th>\n",
       "      <td>45</td>\n",
       "      <td>1</td>\n",
       "      <td>0</td>\n",
       "      <td>110</td>\n",
       "      <td>264</td>\n",
       "      <td>0</td>\n",
       "      <td>0</td>\n",
       "      <td>132</td>\n",
       "      <td>0</td>\n",
       "      <td>1.2</td>\n",
       "      <td>1</td>\n",
       "      <td>0</td>\n",
       "      <td>2</td>\n",
       "      <td>1</td>\n",
       "    </tr>\n",
       "    <tr>\n",
       "      <th>19</th>\n",
       "      <td>42</td>\n",
       "      <td>1</td>\n",
       "      <td>0</td>\n",
       "      <td>148</td>\n",
       "      <td>244</td>\n",
       "      <td>0</td>\n",
       "      <td>2</td>\n",
       "      <td>178</td>\n",
       "      <td>0</td>\n",
       "      <td>0.8</td>\n",
       "      <td>0</td>\n",
       "      <td>2</td>\n",
       "      <td>0</td>\n",
       "      <td>0</td>\n",
       "    </tr>\n",
       "  </tbody>\n",
       "</table>\n",
       "</div>"
      ],
      "text/plain": [
       "    age  sex  cp  trestbps  chol  fbs  restecg  thalach  exang  oldpeak  \\\n",
       "0    69    1   0       160   234    1        2      131      0      0.1   \n",
       "1    69    0   0       140   239    0        0      151      0      1.8   \n",
       "2    66    0   0       150   226    0        0      114      0      2.6   \n",
       "3    65    1   0       138   282    1        2      174      0      1.4   \n",
       "4    64    1   0       110   211    0        2      144      1      1.8   \n",
       "5    64    1   0       170   227    0        2      155      0      0.6   \n",
       "6    63    1   0       145   233    1        2      150      0      2.3   \n",
       "7    61    1   0       134   234    0        0      145      0      2.6   \n",
       "8    60    0   0       150   240    0        0      171      0      0.9   \n",
       "9    59    1   0       178   270    0        2      145      0      4.2   \n",
       "10   59    1   0       170   288    0        2      159      0      0.2   \n",
       "11   59    1   0       160   273    0        2      125      0      0.0   \n",
       "12   59    1   0       134   204    0        0      162      0      0.8   \n",
       "13   58    0   0       150   283    1        2      162      0      1.0   \n",
       "14   56    1   0       120   193    0        2      162      0      1.9   \n",
       "15   52    1   0       118   186    0        2      190      0      0.0   \n",
       "16   52    1   0       152   298    1        0      178      0      1.2   \n",
       "17   51    1   0       125   213    0        2      125      1      1.4   \n",
       "18   45    1   0       110   264    0        0      132      0      1.2   \n",
       "19   42    1   0       148   244    0        2      178      0      0.8   \n",
       "\n",
       "    slope  ca  thal  condition  \n",
       "0       1   1     0          0  \n",
       "1       0   2     0          0  \n",
       "2       2   0     0          0  \n",
       "3       1   1     0          1  \n",
       "4       1   0     0          0  \n",
       "5       1   0     2          0  \n",
       "6       2   0     1          0  \n",
       "7       1   2     0          1  \n",
       "8       0   0     0          0  \n",
       "9       2   0     2          0  \n",
       "10      1   0     2          1  \n",
       "11      0   0     0          1  \n",
       "12      0   2     0          1  \n",
       "13      0   0     0          0  \n",
       "14      1   0     2          0  \n",
       "15      1   0     1          0  \n",
       "16      1   0     2          0  \n",
       "17      0   1     0          0  \n",
       "18      1   0     2          1  \n",
       "19      0   2     0          0  "
      ]
     },
     "execution_count": 401,
     "metadata": {},
     "output_type": "execute_result"
    }
   ],
   "source": [
    "# analisis exploratorio\n",
    "\n",
    "Analisis.head(20)"
   ]
  },
  {
   "cell_type": "code",
   "execution_count": 403,
   "id": "19e220d4-0705-4ec6-93de-8c7963324a5d",
   "metadata": {},
   "outputs": [
    {
     "data": {
      "text/html": [
       "<div>\n",
       "<style scoped>\n",
       "    .dataframe tbody tr th:only-of-type {\n",
       "        vertical-align: middle;\n",
       "    }\n",
       "\n",
       "    .dataframe tbody tr th {\n",
       "        vertical-align: top;\n",
       "    }\n",
       "\n",
       "    .dataframe thead th {\n",
       "        text-align: right;\n",
       "    }\n",
       "</style>\n",
       "<table border=\"1\" class=\"dataframe\">\n",
       "  <thead>\n",
       "    <tr style=\"text-align: right;\">\n",
       "      <th></th>\n",
       "      <th>age</th>\n",
       "      <th>sex</th>\n",
       "      <th>cp</th>\n",
       "      <th>trestbps</th>\n",
       "      <th>chol</th>\n",
       "      <th>fbs</th>\n",
       "      <th>restecg</th>\n",
       "      <th>thalach</th>\n",
       "      <th>exang</th>\n",
       "      <th>oldpeak</th>\n",
       "      <th>slope</th>\n",
       "      <th>ca</th>\n",
       "      <th>thal</th>\n",
       "      <th>condition</th>\n",
       "    </tr>\n",
       "  </thead>\n",
       "  <tbody>\n",
       "    <tr>\n",
       "      <th>count</th>\n",
       "      <td>297.000000</td>\n",
       "      <td>297.000000</td>\n",
       "      <td>297.000000</td>\n",
       "      <td>297.000000</td>\n",
       "      <td>297.000000</td>\n",
       "      <td>297.000000</td>\n",
       "      <td>297.000000</td>\n",
       "      <td>297.000000</td>\n",
       "      <td>297.000000</td>\n",
       "      <td>297.000000</td>\n",
       "      <td>297.000000</td>\n",
       "      <td>297.000000</td>\n",
       "      <td>297.000000</td>\n",
       "      <td>297.000000</td>\n",
       "    </tr>\n",
       "    <tr>\n",
       "      <th>mean</th>\n",
       "      <td>54.542088</td>\n",
       "      <td>0.676768</td>\n",
       "      <td>2.158249</td>\n",
       "      <td>131.693603</td>\n",
       "      <td>247.350168</td>\n",
       "      <td>0.144781</td>\n",
       "      <td>0.996633</td>\n",
       "      <td>149.599327</td>\n",
       "      <td>0.326599</td>\n",
       "      <td>1.055556</td>\n",
       "      <td>0.602694</td>\n",
       "      <td>0.676768</td>\n",
       "      <td>0.835017</td>\n",
       "      <td>0.461279</td>\n",
       "    </tr>\n",
       "    <tr>\n",
       "      <th>std</th>\n",
       "      <td>9.049736</td>\n",
       "      <td>0.468500</td>\n",
       "      <td>0.964859</td>\n",
       "      <td>17.762806</td>\n",
       "      <td>51.997583</td>\n",
       "      <td>0.352474</td>\n",
       "      <td>0.994914</td>\n",
       "      <td>22.941562</td>\n",
       "      <td>0.469761</td>\n",
       "      <td>1.166123</td>\n",
       "      <td>0.618187</td>\n",
       "      <td>0.938965</td>\n",
       "      <td>0.956690</td>\n",
       "      <td>0.499340</td>\n",
       "    </tr>\n",
       "    <tr>\n",
       "      <th>min</th>\n",
       "      <td>29.000000</td>\n",
       "      <td>0.000000</td>\n",
       "      <td>0.000000</td>\n",
       "      <td>94.000000</td>\n",
       "      <td>126.000000</td>\n",
       "      <td>0.000000</td>\n",
       "      <td>0.000000</td>\n",
       "      <td>71.000000</td>\n",
       "      <td>0.000000</td>\n",
       "      <td>0.000000</td>\n",
       "      <td>0.000000</td>\n",
       "      <td>0.000000</td>\n",
       "      <td>0.000000</td>\n",
       "      <td>0.000000</td>\n",
       "    </tr>\n",
       "    <tr>\n",
       "      <th>25%</th>\n",
       "      <td>48.000000</td>\n",
       "      <td>0.000000</td>\n",
       "      <td>2.000000</td>\n",
       "      <td>120.000000</td>\n",
       "      <td>211.000000</td>\n",
       "      <td>0.000000</td>\n",
       "      <td>0.000000</td>\n",
       "      <td>133.000000</td>\n",
       "      <td>0.000000</td>\n",
       "      <td>0.000000</td>\n",
       "      <td>0.000000</td>\n",
       "      <td>0.000000</td>\n",
       "      <td>0.000000</td>\n",
       "      <td>0.000000</td>\n",
       "    </tr>\n",
       "    <tr>\n",
       "      <th>50%</th>\n",
       "      <td>56.000000</td>\n",
       "      <td>1.000000</td>\n",
       "      <td>2.000000</td>\n",
       "      <td>130.000000</td>\n",
       "      <td>243.000000</td>\n",
       "      <td>0.000000</td>\n",
       "      <td>1.000000</td>\n",
       "      <td>153.000000</td>\n",
       "      <td>0.000000</td>\n",
       "      <td>0.800000</td>\n",
       "      <td>1.000000</td>\n",
       "      <td>0.000000</td>\n",
       "      <td>0.000000</td>\n",
       "      <td>0.000000</td>\n",
       "    </tr>\n",
       "    <tr>\n",
       "      <th>75%</th>\n",
       "      <td>61.000000</td>\n",
       "      <td>1.000000</td>\n",
       "      <td>3.000000</td>\n",
       "      <td>140.000000</td>\n",
       "      <td>276.000000</td>\n",
       "      <td>0.000000</td>\n",
       "      <td>2.000000</td>\n",
       "      <td>166.000000</td>\n",
       "      <td>1.000000</td>\n",
       "      <td>1.600000</td>\n",
       "      <td>1.000000</td>\n",
       "      <td>1.000000</td>\n",
       "      <td>2.000000</td>\n",
       "      <td>1.000000</td>\n",
       "    </tr>\n",
       "    <tr>\n",
       "      <th>max</th>\n",
       "      <td>77.000000</td>\n",
       "      <td>1.000000</td>\n",
       "      <td>3.000000</td>\n",
       "      <td>200.000000</td>\n",
       "      <td>564.000000</td>\n",
       "      <td>1.000000</td>\n",
       "      <td>2.000000</td>\n",
       "      <td>202.000000</td>\n",
       "      <td>1.000000</td>\n",
       "      <td>6.200000</td>\n",
       "      <td>2.000000</td>\n",
       "      <td>3.000000</td>\n",
       "      <td>2.000000</td>\n",
       "      <td>1.000000</td>\n",
       "    </tr>\n",
       "  </tbody>\n",
       "</table>\n",
       "</div>"
      ],
      "text/plain": [
       "              age         sex          cp    trestbps        chol         fbs  \\\n",
       "count  297.000000  297.000000  297.000000  297.000000  297.000000  297.000000   \n",
       "mean    54.542088    0.676768    2.158249  131.693603  247.350168    0.144781   \n",
       "std      9.049736    0.468500    0.964859   17.762806   51.997583    0.352474   \n",
       "min     29.000000    0.000000    0.000000   94.000000  126.000000    0.000000   \n",
       "25%     48.000000    0.000000    2.000000  120.000000  211.000000    0.000000   \n",
       "50%     56.000000    1.000000    2.000000  130.000000  243.000000    0.000000   \n",
       "75%     61.000000    1.000000    3.000000  140.000000  276.000000    0.000000   \n",
       "max     77.000000    1.000000    3.000000  200.000000  564.000000    1.000000   \n",
       "\n",
       "          restecg     thalach       exang     oldpeak       slope          ca  \\\n",
       "count  297.000000  297.000000  297.000000  297.000000  297.000000  297.000000   \n",
       "mean     0.996633  149.599327    0.326599    1.055556    0.602694    0.676768   \n",
       "std      0.994914   22.941562    0.469761    1.166123    0.618187    0.938965   \n",
       "min      0.000000   71.000000    0.000000    0.000000    0.000000    0.000000   \n",
       "25%      0.000000  133.000000    0.000000    0.000000    0.000000    0.000000   \n",
       "50%      1.000000  153.000000    0.000000    0.800000    1.000000    0.000000   \n",
       "75%      2.000000  166.000000    1.000000    1.600000    1.000000    1.000000   \n",
       "max      2.000000  202.000000    1.000000    6.200000    2.000000    3.000000   \n",
       "\n",
       "             thal   condition  \n",
       "count  297.000000  297.000000  \n",
       "mean     0.835017    0.461279  \n",
       "std      0.956690    0.499340  \n",
       "min      0.000000    0.000000  \n",
       "25%      0.000000    0.000000  \n",
       "50%      0.000000    0.000000  \n",
       "75%      2.000000    1.000000  \n",
       "max      2.000000    1.000000  "
      ]
     },
     "execution_count": 403,
     "metadata": {},
     "output_type": "execute_result"
    }
   ],
   "source": [
    "# descripcion de analisis\n",
    "\n",
    "Analisis.describe()"
   ]
  },
  {
   "cell_type": "code",
   "execution_count": 405,
   "id": "82cec5ca-6064-4e33-a1f4-e2f37fafb0e0",
   "metadata": {},
   "outputs": [
    {
     "name": "stdout",
     "output_type": "stream",
     "text": [
      "<class 'pandas.core.frame.DataFrame'>\n",
      "RangeIndex: 297 entries, 0 to 296\n",
      "Data columns (total 14 columns):\n",
      " #   Column     Non-Null Count  Dtype  \n",
      "---  ------     --------------  -----  \n",
      " 0   age        297 non-null    int64  \n",
      " 1   sex        297 non-null    int64  \n",
      " 2   cp         297 non-null    int64  \n",
      " 3   trestbps   297 non-null    int64  \n",
      " 4   chol       297 non-null    int64  \n",
      " 5   fbs        297 non-null    int64  \n",
      " 6   restecg    297 non-null    int64  \n",
      " 7   thalach    297 non-null    int64  \n",
      " 8   exang      297 non-null    int64  \n",
      " 9   oldpeak    297 non-null    float64\n",
      " 10  slope      297 non-null    int64  \n",
      " 11  ca         297 non-null    int64  \n",
      " 12  thal       297 non-null    int64  \n",
      " 13  condition  297 non-null    int64  \n",
      "dtypes: float64(1), int64(13)\n",
      "memory usage: 32.6 KB\n"
     ]
    }
   ],
   "source": [
    "#Revisión del tipo de datos y datos faltantes\n",
    "\n",
    "Analisis.info()\n"
   ]
  },
  {
   "cell_type": "markdown",
   "id": "0842476d-227e-4abe-ac0c-16de867d0b5a",
   "metadata": {},
   "source": [
    "### Seleccionar las características más relevantes para entrenar el modelo utilizando selección de características\n",
    "### Característica de interes:\n",
    "\n",
    "###### Cardiaca: si la persona tiene Cardiaca o no (0 = no  es Cardiaca - 1 = si es Cardiaca)\n",
    "###### Predecir si una persona puede ser Cardiaca"
   ]
  },
  {
   "cell_type": "code",
   "execution_count": 409,
   "id": "c30c009a-77bd-4783-9f14-c3c4fb424cee",
   "metadata": {
    "scrolled": true
   },
   "outputs": [
    {
     "data": {
      "text/plain": [
       "condition\n",
       "0    160\n",
       "1    137\n",
       "Name: count, dtype: int64"
      ]
     },
     "execution_count": 409,
     "metadata": {},
     "output_type": "execute_result"
    }
   ],
   "source": [
    "# Total de personas cardiacas\n",
    "\n",
    "Analisis['condition'].value_counts()"
   ]
  },
  {
   "cell_type": "markdown",
   "id": "d4cb2324-d47d-43a4-b818-c3c12712d5ba",
   "metadata": {},
   "source": [
    "## Dividir el dataset en Train y Test para evaluar correctamente el modelo"
   ]
  },
  {
   "cell_type": "code",
   "execution_count": 413,
   "id": "0f6ea250-bfcd-454c-ac8d-43c3ff142ae1",
   "metadata": {},
   "outputs": [],
   "source": [
    "# Porcentaje de datos para entrenamiento (train) = 75% , y para prueba (test) = 25%\n",
    "\n",
    "# Se crean variables X y Y para almacenar la información del entrenamiento\n",
    "\n",
    "X = Analisis.drop('condition',axis=1) # Se cargan los datos de train sin los datos de la columna condition \n",
    "Y = Analisis['condition'] # Se cargan los datos de train con los datos de la la columna condition\n",
    "\n",
    "#La función train_test_split crea una división de un conjunto de datos en dos bloques uno de entrenamiento y otro de prueba (train and test)\n",
    "X_train, X_test, Y_train, Y_test = train_test_split(X, Y, test_size=0.25, stratify=Y, random_state= 0)"
   ]
  },
  {
   "cell_type": "code",
   "execution_count": 415,
   "id": "9a1d9b5c-ee86-4930-8bec-88a5f6864abb",
   "metadata": {},
   "outputs": [
    {
     "name": "stdout",
     "output_type": "stream",
     "text": [
      "     age  sex  cp  trestbps  chol  fbs  restecg  thalach  exang  oldpeak  \\\n",
      "234   56    0   3       200   288    1        2      133      1      4.0   \n",
      "82    66    0   2       146   278    0        2      152      0      0.0   \n",
      "36    56    1   1       120   240    0        0      169      0      0.0   \n",
      "237   56    1   3       132   184    0        2      105      1      2.1   \n",
      "133   47    1   2       108   243    0        0      152      0      0.0   \n",
      "..   ...  ...  ..       ...   ...  ...      ...      ...    ...      ...   \n",
      "291   40    1   3       110   167    0        2      114      1      2.0   \n",
      "195   61    0   3       130   330    0        2      169      0      0.0   \n",
      "170   65    0   3       150   225    0        2      114      0      1.0   \n",
      "135   46    0   2       142   177    0        2      160      1      1.4   \n",
      "293   39    1   3       118   219    0        0      140      0      1.2   \n",
      "\n",
      "     slope  ca  thal  \n",
      "234      2   2     2  \n",
      "82       1   1     0  \n",
      "36       2   0     0  \n",
      "237      1   1     1  \n",
      "133      0   0     0  \n",
      "..     ...  ..   ...  \n",
      "291      1   0     2  \n",
      "195      0   0     0  \n",
      "170      1   3     2  \n",
      "135      2   0     0  \n",
      "293      1   0     2  \n",
      "\n",
      "[222 rows x 13 columns]\n"
     ]
    }
   ],
   "source": [
    "print (X_train)"
   ]
  },
  {
   "cell_type": "code",
   "execution_count": 417,
   "id": "adc2c515-6140-44ce-8f40-c9945760894b",
   "metadata": {},
   "outputs": [
    {
     "name": "stdout",
     "output_type": "stream",
     "text": [
      "     age  sex  cp  trestbps  chol  fbs  restecg  thalach  exang  oldpeak  \\\n",
      "185   62    0   3       140   268    0        2      160      0      3.6   \n",
      "157   70    1   3       145   174    0        0      125      1      2.6   \n",
      "110   54    0   2       135   304    1        0      170      0      0.0   \n",
      "39    56    1   1       130   221    0        2      163      0      0.0   \n",
      "198   60    1   3       130   206    0        2      132      1      2.4   \n",
      "..   ...  ...  ..       ...   ...  ...      ...      ...    ...      ...   \n",
      "278   45    1   3       115   260    0        2      185      0      0.0   \n",
      "163   67    1   3       100   299    0        2      125      1      0.9   \n",
      "137   44    0   2       108   141    0        0      175      0      0.6   \n",
      "33    57    0   1       130   236    0        2      174      0      0.0   \n",
      "246   54    1   3       110   239    0        0      126      1      2.8   \n",
      "\n",
      "     slope  ca  thal  \n",
      "185      2   2     0  \n",
      "157      2   0     2  \n",
      "110      0   0     0  \n",
      "39       0   0     2  \n",
      "198      1   2     2  \n",
      "..     ...  ..   ...  \n",
      "278      0   0     0  \n",
      "163      1   2     0  \n",
      "137      1   0     0  \n",
      "33       1   1     0  \n",
      "246      1   1     2  \n",
      "\n",
      "[75 rows x 13 columns]\n"
     ]
    }
   ],
   "source": [
    "print (X_test)"
   ]
  },
  {
   "cell_type": "markdown",
   "id": "4563ec5d-eb04-47db-a425-1ed2cf410817",
   "metadata": {},
   "source": [
    "## Entrenar el modelo configurando los diferentes hiperparámetros"
   ]
  },
  {
   "cell_type": "code",
   "execution_count": 419,
   "id": "f10bb25b-a304-4301-836b-ad50b625e7e1",
   "metadata": {},
   "outputs": [],
   "source": [
    "# Construir el modelo de regresión logística \n",
    "\n",
    "modelo_regresion = LogisticRegression(solver = \"liblinear\") # liblinear es una libreria para resolver problemas lineales de clasificación y regresión\n",
    "modelo_regresion.fit (X_train , Y_train)   \n",
    "\n",
    "# Crea el modelo de prediccion\n",
    "Prediccion = modelo_regresion.predict(X_test)"
   ]
  },
  {
   "cell_type": "code",
   "execution_count": 421,
   "id": "b250aed4-aa39-4471-a88c-b36a1c25525f",
   "metadata": {},
   "outputs": [
    {
     "data": {
      "text/html": [
       "<div>\n",
       "<style scoped>\n",
       "    .dataframe tbody tr th:only-of-type {\n",
       "        vertical-align: middle;\n",
       "    }\n",
       "\n",
       "    .dataframe tbody tr th {\n",
       "        vertical-align: top;\n",
       "    }\n",
       "\n",
       "    .dataframe thead th {\n",
       "        text-align: right;\n",
       "    }\n",
       "</style>\n",
       "<table border=\"1\" class=\"dataframe\">\n",
       "  <thead>\n",
       "    <tr style=\"text-align: right;\">\n",
       "      <th></th>\n",
       "      <th>age</th>\n",
       "      <th>sex</th>\n",
       "      <th>cp</th>\n",
       "      <th>trestbps</th>\n",
       "      <th>chol</th>\n",
       "      <th>fbs</th>\n",
       "      <th>restecg</th>\n",
       "      <th>thalach</th>\n",
       "      <th>exang</th>\n",
       "      <th>oldpeak</th>\n",
       "      <th>slope</th>\n",
       "      <th>ca</th>\n",
       "      <th>thal</th>\n",
       "    </tr>\n",
       "  </thead>\n",
       "  <tbody>\n",
       "    <tr>\n",
       "      <th>185</th>\n",
       "      <td>62</td>\n",
       "      <td>0</td>\n",
       "      <td>3</td>\n",
       "      <td>140</td>\n",
       "      <td>268</td>\n",
       "      <td>0</td>\n",
       "      <td>2</td>\n",
       "      <td>160</td>\n",
       "      <td>0</td>\n",
       "      <td>3.6</td>\n",
       "      <td>2</td>\n",
       "      <td>2</td>\n",
       "      <td>0</td>\n",
       "    </tr>\n",
       "    <tr>\n",
       "      <th>157</th>\n",
       "      <td>70</td>\n",
       "      <td>1</td>\n",
       "      <td>3</td>\n",
       "      <td>145</td>\n",
       "      <td>174</td>\n",
       "      <td>0</td>\n",
       "      <td>0</td>\n",
       "      <td>125</td>\n",
       "      <td>1</td>\n",
       "      <td>2.6</td>\n",
       "      <td>2</td>\n",
       "      <td>0</td>\n",
       "      <td>2</td>\n",
       "    </tr>\n",
       "    <tr>\n",
       "      <th>110</th>\n",
       "      <td>54</td>\n",
       "      <td>0</td>\n",
       "      <td>2</td>\n",
       "      <td>135</td>\n",
       "      <td>304</td>\n",
       "      <td>1</td>\n",
       "      <td>0</td>\n",
       "      <td>170</td>\n",
       "      <td>0</td>\n",
       "      <td>0.0</td>\n",
       "      <td>0</td>\n",
       "      <td>0</td>\n",
       "      <td>0</td>\n",
       "    </tr>\n",
       "    <tr>\n",
       "      <th>39</th>\n",
       "      <td>56</td>\n",
       "      <td>1</td>\n",
       "      <td>1</td>\n",
       "      <td>130</td>\n",
       "      <td>221</td>\n",
       "      <td>0</td>\n",
       "      <td>2</td>\n",
       "      <td>163</td>\n",
       "      <td>0</td>\n",
       "      <td>0.0</td>\n",
       "      <td>0</td>\n",
       "      <td>0</td>\n",
       "      <td>2</td>\n",
       "    </tr>\n",
       "    <tr>\n",
       "      <th>198</th>\n",
       "      <td>60</td>\n",
       "      <td>1</td>\n",
       "      <td>3</td>\n",
       "      <td>130</td>\n",
       "      <td>206</td>\n",
       "      <td>0</td>\n",
       "      <td>2</td>\n",
       "      <td>132</td>\n",
       "      <td>1</td>\n",
       "      <td>2.4</td>\n",
       "      <td>1</td>\n",
       "      <td>2</td>\n",
       "      <td>2</td>\n",
       "    </tr>\n",
       "    <tr>\n",
       "      <th>7</th>\n",
       "      <td>61</td>\n",
       "      <td>1</td>\n",
       "      <td>0</td>\n",
       "      <td>134</td>\n",
       "      <td>234</td>\n",
       "      <td>0</td>\n",
       "      <td>0</td>\n",
       "      <td>145</td>\n",
       "      <td>0</td>\n",
       "      <td>2.6</td>\n",
       "      <td>1</td>\n",
       "      <td>2</td>\n",
       "      <td>0</td>\n",
       "    </tr>\n",
       "    <tr>\n",
       "      <th>202</th>\n",
       "      <td>60</td>\n",
       "      <td>1</td>\n",
       "      <td>3</td>\n",
       "      <td>140</td>\n",
       "      <td>293</td>\n",
       "      <td>0</td>\n",
       "      <td>2</td>\n",
       "      <td>170</td>\n",
       "      <td>0</td>\n",
       "      <td>1.2</td>\n",
       "      <td>1</td>\n",
       "      <td>2</td>\n",
       "      <td>2</td>\n",
       "    </tr>\n",
       "    <tr>\n",
       "      <th>285</th>\n",
       "      <td>43</td>\n",
       "      <td>1</td>\n",
       "      <td>3</td>\n",
       "      <td>150</td>\n",
       "      <td>247</td>\n",
       "      <td>0</td>\n",
       "      <td>0</td>\n",
       "      <td>171</td>\n",
       "      <td>0</td>\n",
       "      <td>1.5</td>\n",
       "      <td>0</td>\n",
       "      <td>0</td>\n",
       "      <td>0</td>\n",
       "    </tr>\n",
       "    <tr>\n",
       "      <th>272</th>\n",
       "      <td>46</td>\n",
       "      <td>0</td>\n",
       "      <td>3</td>\n",
       "      <td>138</td>\n",
       "      <td>243</td>\n",
       "      <td>0</td>\n",
       "      <td>2</td>\n",
       "      <td>152</td>\n",
       "      <td>1</td>\n",
       "      <td>0.0</td>\n",
       "      <td>1</td>\n",
       "      <td>0</td>\n",
       "      <td>0</td>\n",
       "    </tr>\n",
       "    <tr>\n",
       "      <th>111</th>\n",
       "      <td>54</td>\n",
       "      <td>1</td>\n",
       "      <td>2</td>\n",
       "      <td>150</td>\n",
       "      <td>232</td>\n",
       "      <td>0</td>\n",
       "      <td>2</td>\n",
       "      <td>165</td>\n",
       "      <td>0</td>\n",
       "      <td>1.6</td>\n",
       "      <td>0</td>\n",
       "      <td>0</td>\n",
       "      <td>2</td>\n",
       "    </tr>\n",
       "  </tbody>\n",
       "</table>\n",
       "</div>"
      ],
      "text/plain": [
       "     age  sex  cp  trestbps  chol  fbs  restecg  thalach  exang  oldpeak  \\\n",
       "185   62    0   3       140   268    0        2      160      0      3.6   \n",
       "157   70    1   3       145   174    0        0      125      1      2.6   \n",
       "110   54    0   2       135   304    1        0      170      0      0.0   \n",
       "39    56    1   1       130   221    0        2      163      0      0.0   \n",
       "198   60    1   3       130   206    0        2      132      1      2.4   \n",
       "7     61    1   0       134   234    0        0      145      0      2.6   \n",
       "202   60    1   3       140   293    0        2      170      0      1.2   \n",
       "285   43    1   3       150   247    0        0      171      0      1.5   \n",
       "272   46    0   3       138   243    0        2      152      1      0.0   \n",
       "111   54    1   2       150   232    0        2      165      0      1.6   \n",
       "\n",
       "     slope  ca  thal  \n",
       "185      2   2     0  \n",
       "157      2   0     2  \n",
       "110      0   0     0  \n",
       "39       0   0     2  \n",
       "198      1   2     2  \n",
       "7        1   2     0  \n",
       "202      1   2     2  \n",
       "285      0   0     0  \n",
       "272      1   0     0  \n",
       "111      0   0     2  "
      ]
     },
     "execution_count": 421,
     "metadata": {},
     "output_type": "execute_result"
    }
   ],
   "source": [
    "X_test.head(10)"
   ]
  },
  {
   "cell_type": "code",
   "execution_count": 423,
   "id": "afbba27c-12fe-4688-952e-62f216142306",
   "metadata": {},
   "outputs": [
    {
     "name": "stdout",
     "output_type": "stream",
     "text": [
      "[1 1 0 0 1 0 1 0 0 1 0 1 1 1 1 1 0 0 0 1 0 1 1 1 0 0 0 0 0 1 0 1 1 0 0 0 0\n",
      " 0 1 0 0 0 1 1 1 1 1 0 1 1 0 1 0 0 0 0 0 1 1 1 1 0 0 0 1 0 0 1 0 0 0 1 0 0\n",
      " 1]\n"
     ]
    }
   ],
   "source": [
    "print (Prediccion)"
   ]
  },
  {
   "cell_type": "markdown",
   "id": "b1bfc10a-2a18-4a62-aef6-3922184b26c7",
   "metadata": {},
   "source": [
    "## Evaluar el desempeño del modelo en el conjunto de Test con métricas como precisión, recall, F1-score, etc"
   ]
  },
  {
   "cell_type": "code",
   "execution_count": 425,
   "id": "bece6d87-23bf-426a-b4d7-c75956c25fc4",
   "metadata": {},
   "outputs": [
    {
     "name": "stdout",
     "output_type": "stream",
     "text": [
      "              precision    recall  f1-score   support\n",
      "\n",
      "           0       0.88      0.90      0.89        40\n",
      "           1       0.88      0.86      0.87        35\n",
      "\n",
      "    accuracy                           0.88        75\n",
      "   macro avg       0.88      0.88      0.88        75\n",
      "weighted avg       0.88      0.88      0.88        75\n",
      "\n"
     ]
    }
   ],
   "source": [
    "# Desempeño del modelo de regresión\n",
    "\n",
    "print(classification_report(Y_test,Prediccion))"
   ]
  },
  {
   "cell_type": "markdown",
   "id": "8d8334f8-5106-426e-b8cd-d6ef68fa6b39",
   "metadata": {},
   "source": [
    "## Realizar las diferentes gráficas que permitan visualizar los resultados del modelo"
   ]
  },
  {
   "cell_type": "code",
   "execution_count": 427,
   "id": "c516ed12-5981-4710-9d48-f8e9920aad52",
   "metadata": {},
   "outputs": [
    {
     "data": {
      "text/plain": [
       "<sklearn.metrics._plot.confusion_matrix.ConfusionMatrixDisplay at 0x26274caab70>"
      ]
     },
     "execution_count": 427,
     "metadata": {},
     "output_type": "execute_result"
    },
    {
     "data": {
      "image/png": "[encoded data removed]",
      "text/plain": [
       "<Figure size 640x480 with 2 Axes>"
      ]
     },
     "metadata": {},
     "output_type": "display_data"
    }
   ],
   "source": [
    "#Matrix de Confusión del modelo\n",
    "\n",
    "cm=confusion_matrix(Y_test,Prediccion)\n",
    "disp=metrics.ConfusionMatrixDisplay(confusion_matrix=cm)\n",
    "disp.plot()"
   ]
  },
  {
   "cell_type": "code",
   "execution_count": 429,
   "id": "b3ece8eb-3be7-49e1-a519-9d518f89e860",
   "metadata": {},
   "outputs": [
    {
     "data": {
      "image/png": "[encoded data removed]",
      "text/plain": [
       "<Figure size 640x480 with 1 Axes>"
      ]
     },
     "metadata": {},
     "output_type": "display_data"
    }
   ],
   "source": [
    "# Curva de precisón del modelo\n",
    "\n",
    "from sklearn.metrics import RocCurveDisplay\n",
    "RocCurveDisplay.from_predictions(Y_test, Prediccion)\n",
    "plt.show()"
   ]
  },
  {
   "cell_type": "code",
   "execution_count": 431,
   "id": "b79a8dd4-2ce4-4ceb-80d4-52516feff51c",
   "metadata": {},
   "outputs": [
    {
     "data": {
      "text/plain": [
       "Text(0.5, 1.0, 'Identificación de Datos Faltantes y Atípicos')"
      ]
     },
     "execution_count": 431,
     "metadata": {},
     "output_type": "execute_result"
    },
    {
     "data": {
      "image/png": "[encoded data removed]",
      "text/plain": [
       "<Figure size 600x300 with 1 Axes>"
      ]
     },
     "metadata": {},
     "output_type": "display_data"
    }
   ],
   "source": [
    "# identificacion de datos faltantes y atipicos \n",
    "\n",
    "plt.figure(figsize=(6, 3))\n",
    "sns.boxplot(x=Analisis['age']) # edad\n",
    "plt.title('Identificación de Datos Faltantes y Atípicos', fontsize=10 )"
   ]
  },
  {
   "cell_type": "code",
   "execution_count": 433,
   "id": "ed9e9851-afcd-49bb-aff5-29abce415f0b",
   "metadata": {},
   "outputs": [
    {
     "data": {
      "text/plain": [
       "Text(0.5, 1.0, 'Identificación de Datos Faltantes y Atípicos')"
      ]
     },
     "execution_count": 433,
     "metadata": {},
     "output_type": "execute_result"
    },
    {
     "data": {
      "image/png": "[encoded data removed]",
      "text/plain": [
       "<Figure size 600x300 with 1 Axes>"
      ]
     },
     "metadata": {},
     "output_type": "display_data"
    }
   ],
   "source": [
    "# identificacion de datos faltantes y atipicos \n",
    "\n",
    "plt.figure(figsize=(6, 3))\n",
    "sns.boxplot(x=Analisis['cp']) # tipo de dolor en el pecho\n",
    "plt.title('Identificación de Datos Faltantes y Atípicos', fontsize=10 )"
   ]
  },
  {
   "cell_type": "code",
   "execution_count": 435,
   "id": "d02b80ce-4dc9-4213-8682-efb009834dc1",
   "metadata": {},
   "outputs": [
    {
     "data": {
      "text/plain": [
       "Text(0.5, 1.0, 'Identificación de Datos Faltantes y Atípicos')"
      ]
     },
     "execution_count": 435,
     "metadata": {},
     "output_type": "execute_result"
    },
    {
     "data": {
      "image/png": "[encoded data removed]",
      "text/plain": [
       "<Figure size 600x300 with 1 Axes>"
      ]
     },
     "metadata": {},
     "output_type": "display_data"
    }
   ],
   "source": [
    "# identificacion de datos faltantes y atipicos \n",
    "\n",
    "plt.figure(figsize=(6, 3))\n",
    "sns.boxplot(x=Analisis['trestbps']) # presión arterial en reposo\n",
    "plt.title('Identificación de Datos Faltantes y Atípicos', fontsize=10 )"
   ]
  },
  {
   "cell_type": "code",
   "execution_count": 437,
   "id": "856b0a31-3b1f-4c99-914e-b0a04be72253",
   "metadata": {},
   "outputs": [
    {
     "data": {
      "text/plain": [
       "Text(0.5, 1.0, 'Identificación de Datos Faltantes y Atípicos')"
      ]
     },
     "execution_count": 437,
     "metadata": {},
     "output_type": "execute_result"
    },
    {
     "data": {
      "image/png": "[encoded data removed]",
      "text/plain": [
       "<Figure size 600x300 with 1 Axes>"
      ]
     },
     "metadata": {},
     "output_type": "display_data"
    }
   ],
   "source": [
    "# identificacion de datos faltantes y atipicos \n",
    "\n",
    "plt.figure(figsize=(6, 3))\n",
    "sns.boxplot(x=Analisis['chol']) # colesterol sérico\n",
    "plt.title('Identificación de Datos Faltantes y Atípicos', fontsize=10 )"
   ]
  },
  {
   "cell_type": "code",
   "execution_count": 439,
   "id": "9d42dd51-b318-4b8e-b8c9-354ba4768b1c",
   "metadata": {},
   "outputs": [
    {
     "data": {
      "text/plain": [
       "Text(0.5, 1.0, 'Identificación de Datos Faltantes y Atípicos')"
      ]
     },
     "execution_count": 439,
     "metadata": {},
     "output_type": "execute_result"
    },
    {
     "data": {
      "image/png": "[encoded data removed]",
      "text/plain": [
       "<Figure size 600x300 with 1 Axes>"
      ]
     },
     "metadata": {},
     "output_type": "display_data"
    }
   ],
   "source": [
    "# identificacion de datos faltantes y atipicos \n",
    "\n",
    "plt.figure(figsize=(6, 3))\n",
    "sns.boxplot(x=Analisis['fbs']) #  glucemia en ayunas\n",
    "plt.title('Identificación de Datos Faltantes y Atípicos', fontsize=10 )"
   ]
  },
  {
   "cell_type": "code",
   "execution_count": 441,
   "id": "de03b43c-d41f-4894-bb8c-2b4a74005e02",
   "metadata": {},
   "outputs": [
    {
     "data": {
      "text/plain": [
       "Text(0.5, 1.0, 'Identificación de Datos Faltantes y Atípicos')"
      ]
     },
     "execution_count": 441,
     "metadata": {},
     "output_type": "execute_result"
    },
    {
     "data": {
      "image/png": "[encoded data removed]",
      "text/plain": [
       "<Figure size 600x300 with 1 Axes>"
      ]
     },
     "metadata": {},
     "output_type": "display_data"
    }
   ],
   "source": [
    "# identificacion de datos faltantes y atipicos \n",
    "\n",
    "plt.figure(figsize=(6, 3))\n",
    "sns.boxplot(x=Analisis['thalach']) # frecuencia cardíaca máxima alcanzada\n",
    "plt.title('Identificación de Datos Faltantes y Atípicos', fontsize=10 )"
   ]
  },
  {
   "cell_type": "code",
   "execution_count": 443,
   "id": "0a4b1326-0a45-4baa-8b53-594abca52893",
   "metadata": {},
   "outputs": [
    {
     "data": {
      "text/plain": [
       "Text(0.5, 1.0, 'Identificación de Datos Faltantes y Atípicos')"
      ]
     },
     "execution_count": 443,
     "metadata": {},
     "output_type": "execute_result"
    },
    {
     "data": {
      "image/png": "[encoded data removed]",
      "text/plain": [
       "<Figure size 600x300 with 1 Axes>"
      ]
     },
     "metadata": {},
     "output_type": "display_data"
    }
   ],
   "source": [
    "# identificacion de datos faltantes y atipicos \n",
    "\n",
    "plt.figure(figsize=(6, 3))\n",
    "sns.boxplot(x=Analisis['oldpeak']) # depresión del ST inducida por el ejercicio\n",
    "plt.title('Identificación de Datos Faltantes y Atípicos', fontsize=10 )"
   ]
  },
  {
   "cell_type": "code",
   "execution_count": 445,
   "id": "2120f868-f3cf-4b88-948f-977db3287fcd",
   "metadata": {},
   "outputs": [
    {
     "data": {
      "text/plain": [
       "Text(0.5, 1.0, 'Identificación de Datos Faltantes y Atípicos')"
      ]
     },
     "execution_count": 445,
     "metadata": {},
     "output_type": "execute_result"
    },
    {
     "data": {
      "image/png": "[encoded data removed]",
      "text/plain": [
       "<Figure size 600x300 with 1 Axes>"
      ]
     },
     "metadata": {},
     "output_type": "display_data"
    }
   ],
   "source": [
    "# identificacion de datos faltantes y atipicos \n",
    "\n",
    "plt.figure(figsize=(6, 3))\n",
    "sns.boxplot(x=Analisis['slope']) #  pendiente del segmento ST en el ECG\n",
    "plt.title('Identificación de Datos Faltantes y Atípicos', fontsize=10 )"
   ]
  },
  {
   "cell_type": "code",
   "execution_count": 447,
   "id": "6117eea1-2df7-4991-aa3b-2a44048be40d",
   "metadata": {},
   "outputs": [
    {
     "data": {
      "text/plain": [
       "Text(0.5, 1.0, 'Identificación de Datos Faltantes y Atípicos')"
      ]
     },
     "execution_count": 447,
     "metadata": {},
     "output_type": "execute_result"
    },
    {
     "data": {
      "image/png": "[encoded data removed]",
      "text/plain": [
       "<Figure size 600x300 with 1 Axes>"
      ]
     },
     "metadata": {},
     "output_type": "display_data"
    }
   ],
   "source": [
    "# identificacion de datos faltantes y atipicos \n",
    "\n",
    "plt.figure(figsize=(6, 3))\n",
    "sns.boxplot(x=Analisis['ca']) # número de vasos principales coloreados por fluoroscopía\n",
    "plt.title('Identificación de Datos Faltantes y Atípicos', fontsize=10 )"
   ]
  },
  {
   "cell_type": "markdown",
   "id": "cd0a0c29-4db4-4b5f-ac25-0d682f6a2042",
   "metadata": {},
   "source": [
    "## Preprocesar los datos limpiándolos, tratando valores faltantes y transformándolos según sea necesario"
   ]
  },
  {
   "cell_type": "code",
   "execution_count": 451,
   "id": "4ccce5f6-c31b-4545-91fd-6b7947560e23",
   "metadata": {},
   "outputs": [
    {
     "name": "stdout",
     "output_type": "stream",
     "text": [
      "Cantidad de Registros con cero en Tipo de Dolor en el Pecho:  23\n",
      "Cantidad de Registros con cero en genero:  96\n",
      "Cantidad de Registros con cero en glucemia en ayunas:  254\n",
      "Cantidad de Registros con cero en angina inducida por el ejercicio:  200\n",
      "Cantidad de Registros con cero en pendiente del segmento ST en el ECG:  139\n",
      "Cantidad de Registros con cero en  número de vasos principales coloreados por fluoroscopía:  174\n",
      "Cantidad de Registros con cero en talasemia:  164\n"
     ]
    }
   ],
   "source": [
    "# Revisión de faltantes \n",
    "\n",
    "print(\"Cantidad de Registros con cero en Tipo de Dolor en el Pecho: \",Analisis['cp'].isin([0]).sum())\n",
    "print(\"Cantidad de Registros con cero en genero: \",Analisis['sex'].isin([0]).sum())\n",
    "print(\"Cantidad de Registros con cero en glucemia en ayunas: \",Analisis['fbs'].isin([0]).sum())\n",
    "print(\"Cantidad de Registros con cero en angina inducida por el ejercicio: \",Analisis['exang'].isin([0]).sum())\n",
    "print(\"Cantidad de Registros con cero en pendiente del segmento ST en el ECG: \",Analisis['slope'].isin([0]).sum())\n",
    "print(\"Cantidad de Registros con cero en  número de vasos principales coloreados por fluoroscopía: \",Analisis['ca'].isin([0]).sum())\n",
    "print(\"Cantidad de Registros con cero en talasemia: \",Analisis['thal'].isin([0]).sum())\n"
   ]
  },
  {
   "cell_type": "code",
   "execution_count": 453,
   "id": "d888b4af-eb5b-4ad2-b27b-ca6c13c4d4d4",
   "metadata": {},
   "outputs": [],
   "source": [
    "# Reemplazamos todos los ceros con el valor medio (promedio) de la columna.\n",
    "\n",
    "Analisis['cp']=Analisis['cp'].replace(0,Analisis['cp'].mean())\n",
    "Analisis['sex']=Analisis['sex'].replace(0,Analisis['sex'].mean())\n",
    "Analisis['fbs']=Analisis['fbs'].replace(0,Analisis['fbs'].mean())\n",
    "Analisis['exang']=Analisis['exang'].replace(0,Analisis['exang'].mean())\n",
    "Analisis['slope']=Analisis['slope'].replace(0,Analisis['slope'].mean())\n",
    "Analisis['ca']=Analisis['ca'].replace(0,Analisis['ca'].mean())\n",
    "Analisis['thal']=Analisis['thal'].replace(0,Analisis['thal'].mean())"
   ]
  },
  {
   "cell_type": "code",
   "execution_count": 455,
   "id": "3797999d-bf3c-48b2-878a-18ec30feb008",
   "metadata": {},
   "outputs": [
    {
     "name": "stdout",
     "output_type": "stream",
     "text": [
      "Cantidad de Registros con cero en Tipo de Dolor en el Pecho:  0\n",
      "Cantidad de Registros con cero en genero:  0\n",
      "Cantidad de Registros con cero en glucemia en ayunas:  0\n",
      "Cantidad de Registros con cero en angina inducida por el ejercicio:  0\n",
      "Cantidad de Registros con cero en pendiente del segmento ST en el ECG:  0\n",
      "Cantidad de Registros con cero en  número de vasos principales coloreados por fluoroscopía:  0\n",
      "Cantidad de Registros con cero en talasemia:  0\n"
     ]
    }
   ],
   "source": [
    "# Revisión nuevamente de datos faltantes\n",
    "\n",
    "print(\"Cantidad de Registros con cero en Tipo de Dolor en el Pecho: \",Analisis['cp'].isin([0]).sum())\n",
    "print(\"Cantidad de Registros con cero en genero: \",Analisis['sex'].isin([0]).sum())\n",
    "print(\"Cantidad de Registros con cero en glucemia en ayunas: \",Analisis['fbs'].isin([0]).sum())\n",
    "print(\"Cantidad de Registros con cero en angina inducida por el ejercicio: \",Analisis['exang'].isin([0]).sum())\n",
    "print(\"Cantidad de Registros con cero en pendiente del segmento ST en el ECG: \",Analisis['slope'].isin([0]).sum())\n",
    "print(\"Cantidad de Registros con cero en  número de vasos principales coloreados por fluoroscopía: \",Analisis['ca'].isin([0]).sum())\n",
    "print(\"Cantidad de Registros con cero en talasemia: \",Analisis['thal'].isin([0]).sum())\n"
   ]
  },
  {
   "cell_type": "code",
   "execution_count": 457,
   "id": "5574771b-2e6d-4db8-9833-5daf324220eb",
   "metadata": {},
   "outputs": [
    {
     "data": {
      "text/plain": [
       "Text(0.5, 1.0, 'Identificación de Datos Atípicos')"
      ]
     },
     "execution_count": 457,
     "metadata": {},
     "output_type": "execute_result"
    },
    {
     "data": {
      "image/png": "[encoded data removed]",
      "text/plain": [
       "<Figure size 600x300 with 1 Axes>"
      ]
     },
     "metadata": {},
     "output_type": "display_data"
    }
   ],
   "source": [
    "#Identificación de Datos Atípicos\n",
    "\n",
    "plt.figure(figsize=(6, 3))\n",
    "sns.boxplot(x=Analisis['restecg'])\n",
    "plt.title('Identificación de Datos Atípicos', fontsize=10 )"
   ]
  },
  {
   "cell_type": "code",
   "execution_count": 459,
   "id": "ca8e0368-679c-4ff3-9689-afb2e2168c3a",
   "metadata": {},
   "outputs": [
    {
     "name": "stdout",
     "output_type": "stream",
     "text": [
      "El total de datos atípicos es 297\n"
     ]
    }
   ],
   "source": [
    "#Conteo de Datos Atípicos\n",
    "\n",
    "nivel_minimo=20\n",
    "nivel_maximo=1000\n",
    "Total_Atipicos=((Analisis['restecg']<nivel_minimo)|(Analisis['restecg']>nivel_maximo)).sum()\n",
    "print(\"El total de datos atípicos es {}\".format(Total_Atipicos))"
   ]
  },
  {
   "cell_type": "code",
   "execution_count": 461,
   "id": "e75ef98e-910e-4043-af50-41f282788fdb",
   "metadata": {},
   "outputs": [],
   "source": [
    "# Filtra Datos Atípicos\n",
    "\n",
    "Analisis=Analisis[(Analisis['restecg']<nivel_maximo)&(Analisis['restecg']>nivel_minimo)]"
   ]
  },
  {
   "cell_type": "code",
   "execution_count": 463,
   "id": "e5b5fd86-0a1d-4808-adc6-35441b8424c5",
   "metadata": {},
   "outputs": [
    {
     "name": "stdout",
     "output_type": "stream",
     "text": [
      "El total de datos atípicos es 0\n"
     ]
    }
   ],
   "source": [
    "# Validar si se removieron los datos atípicos\n",
    "\n",
    "Total_Atipicos=((Analisis['restecg']<nivel_minimo)|(Analisis['restecg']>nivel_maximo)).sum()\n",
    "print(\"El total de datos atípicos es {}\".format(Total_Atipicos))"
   ]
  },
  {
   "cell_type": "markdown",
   "id": "ac08d7d3-53da-4d75-adff-41a9b803c014",
   "metadata": {},
   "source": [
    "## 8. Interpretar, analizar y documentar los resultados obtenidos\n",
    "\n",
    "###### **Del desempeño del modelo se puede describir:**\n",
    "\n",
    "###### - Precision: Podemos decir que el 88% de las personas tiene presencia de enfermedad cardíaca. \n",
    "###### - Recall: Se observa que el 90% de las personas no son cardiacos y el 86% presentan la enfermedad cardiaca\n",
    "###### - F1- Score: Podemos observar que los dos calculos son valores altos elcual indica que es alta la tasa de enfermedades cardicas\n",
    "\n",
    "###### **De la Matriz de Confusión podemos interpretar:**\n",
    "\n",
    "###### Verdaderos positivos 30 de las personas enfermedades cardiacas\n",
    "###### Verdaderos negativos 36 de las personas que no son cardiacos\n",
    "###### Falsos positivos 4  de las personas enfermedades cardiacas\n",
    "###### Falsos negativos 5 de las personas que no son cardiacos\n",
    "\n",
    "###### **De la curva de precisión del modelo se puede interpretar:**\n",
    "\n",
    "###### Optimizar el umbrel de clasificacion de falsos negativos, indica un balance y detecta el verdadero positivo en las personas con enfermedades cardiacas tiene un AUC de 0.88 quivale a un 88%\n"
   ]
  },
  {
   "cell_type": "code",
   "execution_count": null,
   "id": "2deb46e4-fbba-421a-a094-758594e03802",
   "metadata": {},
   "outputs": [],
   "source": []
  }
 ],
 "metadata": {
  "kernelspec": {
   "display_name": "Python [conda env:base] *",
   "language": "python",
   "name": "conda-base-py"
  },
  "language_info": {
   "codemirror_mode": {
    "name": "ipython",
    "version": 3
   },
   "file_extension": ".py",
   "mimetype": "text/x-python",
   "name": "python",
   "nbconvert_exporter": "python",
   "pygments_lexer": "ipython3",
   "version": "3.12.7"
  }
 },
 "nbformat": 4,
 "nbformat_minor": 5
}
