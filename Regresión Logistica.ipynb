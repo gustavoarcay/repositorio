{
 "cells": [
  {
   "cell_type": "markdown",
   "id": "abc4c08a-03d6-4a96-8089-3375cd0226fa",
   "metadata": {},
   "source": [
    "# Regresión Logistica "
   ]
  },
  {
   "cell_type": "markdown",
   "id": "1e53ac61-e7db-42db-8526-826789e39982",
   "metadata": {},
   "source": [
    "## Pasos de la Actividad - Regresión logistica presencia de enfermedad cardiaca."
   ]
  },
  {
   "cell_type": "markdown",
   "id": "34e73b18-5479-4339-8ea3-7fc8b3242eff",
   "metadata": {},
   "source": [
    "## 1. Realizar un análisis exploratorio de los datos para identificar relaciones entre variables, valores atípicos, tendencias, etc.  "
   ]
  },
  {
   "cell_type": "code",
   "execution_count": 1,
   "id": "46f7b43b-ba9d-4c2b-ab4a-548f8ce2a2e3",
   "metadata": {},
   "outputs": [],
   "source": [
    "import pandas as pd # Manejo y análisis de estructuras de datos\n",
    "import numpy as np # Cálculo numérico y el análisis de datos\n",
    "import seaborn as sns # Creación gráficos estadísticos\n",
    "import matplotlib.pyplot as plt # Creación de gráficos en dos dimensiones\n",
    "\n",
    "# librerías de para implementar modelos de ciencia de datos\n",
    "from sklearn import metrics\n",
    "from sklearn.model_selection import train_test_split\n",
    "from sklearn.linear_model import LogisticRegression\n",
    "from sklearn.metrics import classification_report, confusion_matrix"
   ]
  },
  {
   "cell_type": "code",
   "execution_count": 8,
   "id": "4e1f603c-7815-4bbd-966f-451d62a6bc50",
   "metadata": {},
   "outputs": [],
   "source": [
    "# lectura de datos en Python y lo cargamos en la variable Datos\n",
    "dataset = pd.read_csv('EnfermedadesCardiacas.csv')"
   ]
  },
  {
   "cell_type": "code",
   "execution_count": 9,
   "id": "3bf18bcc-7827-41da-8bdc-e3d9e43c424d",
   "metadata": {},
   "outputs": [
    {
     "data": {
      "text/html": [
       "<div>\n",
       "<style scoped>\n",
       "    .dataframe tbody tr th:only-of-type {\n",
       "        vertical-align: middle;\n",
       "    }\n",
       "\n",
       "    .dataframe tbody tr th {\n",
       "        vertical-align: top;\n",
       "    }\n",
       "\n",
       "    .dataframe thead th {\n",
       "        text-align: right;\n",
       "    }\n",
       "</style>\n",
       "<table border=\"1\" class=\"dataframe\">\n",
       "  <thead>\n",
       "    <tr style=\"text-align: right;\">\n",
       "      <th></th>\n",
       "      <th>age</th>\n",
       "      <th>sex</th>\n",
       "      <th>cp</th>\n",
       "      <th>trestbps</th>\n",
       "      <th>chol</th>\n",
       "      <th>fbs</th>\n",
       "      <th>restecg</th>\n",
       "      <th>thalach</th>\n",
       "      <th>exang</th>\n",
       "      <th>oldpeak</th>\n",
       "      <th>slope</th>\n",
       "      <th>ca</th>\n",
       "      <th>thal</th>\n",
       "      <th>condition</th>\n",
       "    </tr>\n",
       "  </thead>\n",
       "  <tbody>\n",
       "    <tr>\n",
       "      <th>0</th>\n",
       "      <td>69</td>\n",
       "      <td>1</td>\n",
       "      <td>0</td>\n",
       "      <td>160</td>\n",
       "      <td>234</td>\n",
       "      <td>1</td>\n",
       "      <td>2</td>\n",
       "      <td>131</td>\n",
       "      <td>0</td>\n",
       "      <td>0.1</td>\n",
       "      <td>1</td>\n",
       "      <td>1</td>\n",
       "      <td>0</td>\n",
       "      <td>0</td>\n",
       "    </tr>\n",
       "    <tr>\n",
       "      <th>1</th>\n",
       "      <td>69</td>\n",
       "      <td>0</td>\n",
       "      <td>0</td>\n",
       "      <td>140</td>\n",
       "      <td>239</td>\n",
       "      <td>0</td>\n",
       "      <td>0</td>\n",
       "      <td>151</td>\n",
       "      <td>0</td>\n",
       "      <td>1.8</td>\n",
       "      <td>0</td>\n",
       "      <td>2</td>\n",
       "      <td>0</td>\n",
       "      <td>0</td>\n",
       "    </tr>\n",
       "    <tr>\n",
       "      <th>2</th>\n",
       "      <td>66</td>\n",
       "      <td>0</td>\n",
       "      <td>0</td>\n",
       "      <td>150</td>\n",
       "      <td>226</td>\n",
       "      <td>0</td>\n",
       "      <td>0</td>\n",
       "      <td>114</td>\n",
       "      <td>0</td>\n",
       "      <td>2.6</td>\n",
       "      <td>2</td>\n",
       "      <td>0</td>\n",
       "      <td>0</td>\n",
       "      <td>0</td>\n",
       "    </tr>\n",
       "    <tr>\n",
       "      <th>3</th>\n",
       "      <td>65</td>\n",
       "      <td>1</td>\n",
       "      <td>0</td>\n",
       "      <td>138</td>\n",
       "      <td>282</td>\n",
       "      <td>1</td>\n",
       "      <td>2</td>\n",
       "      <td>174</td>\n",
       "      <td>0</td>\n",
       "      <td>1.4</td>\n",
       "      <td>1</td>\n",
       "      <td>1</td>\n",
       "      <td>0</td>\n",
       "      <td>1</td>\n",
       "    </tr>\n",
       "    <tr>\n",
       "      <th>4</th>\n",
       "      <td>64</td>\n",
       "      <td>1</td>\n",
       "      <td>0</td>\n",
       "      <td>110</td>\n",
       "      <td>211</td>\n",
       "      <td>0</td>\n",
       "      <td>2</td>\n",
       "      <td>144</td>\n",
       "      <td>1</td>\n",
       "      <td>1.8</td>\n",
       "      <td>1</td>\n",
       "      <td>0</td>\n",
       "      <td>0</td>\n",
       "      <td>0</td>\n",
       "    </tr>\n",
       "    <tr>\n",
       "      <th>...</th>\n",
       "      <td>...</td>\n",
       "      <td>...</td>\n",
       "      <td>...</td>\n",
       "      <td>...</td>\n",
       "      <td>...</td>\n",
       "      <td>...</td>\n",
       "      <td>...</td>\n",
       "      <td>...</td>\n",
       "      <td>...</td>\n",
       "      <td>...</td>\n",
       "      <td>...</td>\n",
       "      <td>...</td>\n",
       "      <td>...</td>\n",
       "      <td>...</td>\n",
       "    </tr>\n",
       "    <tr>\n",
       "      <th>95</th>\n",
       "      <td>60</td>\n",
       "      <td>0</td>\n",
       "      <td>2</td>\n",
       "      <td>120</td>\n",
       "      <td>178</td>\n",
       "      <td>1</td>\n",
       "      <td>0</td>\n",
       "      <td>96</td>\n",
       "      <td>0</td>\n",
       "      <td>0.0</td>\n",
       "      <td>0</td>\n",
       "      <td>0</td>\n",
       "      <td>0</td>\n",
       "      <td>0</td>\n",
       "    </tr>\n",
       "    <tr>\n",
       "      <th>96</th>\n",
       "      <td>59</td>\n",
       "      <td>1</td>\n",
       "      <td>2</td>\n",
       "      <td>126</td>\n",
       "      <td>218</td>\n",
       "      <td>1</td>\n",
       "      <td>0</td>\n",
       "      <td>134</td>\n",
       "      <td>0</td>\n",
       "      <td>2.2</td>\n",
       "      <td>1</td>\n",
       "      <td>1</td>\n",
       "      <td>1</td>\n",
       "      <td>1</td>\n",
       "    </tr>\n",
       "    <tr>\n",
       "      <th>97</th>\n",
       "      <td>59</td>\n",
       "      <td>1</td>\n",
       "      <td>2</td>\n",
       "      <td>150</td>\n",
       "      <td>212</td>\n",
       "      <td>1</td>\n",
       "      <td>0</td>\n",
       "      <td>157</td>\n",
       "      <td>0</td>\n",
       "      <td>1.6</td>\n",
       "      <td>0</td>\n",
       "      <td>0</td>\n",
       "      <td>0</td>\n",
       "      <td>0</td>\n",
       "    </tr>\n",
       "    <tr>\n",
       "      <th>98</th>\n",
       "      <td>58</td>\n",
       "      <td>1</td>\n",
       "      <td>2</td>\n",
       "      <td>112</td>\n",
       "      <td>230</td>\n",
       "      <td>0</td>\n",
       "      <td>2</td>\n",
       "      <td>165</td>\n",
       "      <td>0</td>\n",
       "      <td>2.5</td>\n",
       "      <td>1</td>\n",
       "      <td>1</td>\n",
       "      <td>2</td>\n",
       "      <td>1</td>\n",
       "    </tr>\n",
       "    <tr>\n",
       "      <th>99</th>\n",
       "      <td>58</td>\n",
       "      <td>1</td>\n",
       "      <td>2</td>\n",
       "      <td>105</td>\n",
       "      <td>240</td>\n",
       "      <td>0</td>\n",
       "      <td>2</td>\n",
       "      <td>154</td>\n",
       "      <td>1</td>\n",
       "      <td>0.6</td>\n",
       "      <td>1</td>\n",
       "      <td>0</td>\n",
       "      <td>2</td>\n",
       "      <td>0</td>\n",
       "    </tr>\n",
       "  </tbody>\n",
       "</table>\n",
       "<p>100 rows × 14 columns</p>\n",
       "</div>"
      ],
      "text/plain": [
       "    age  sex  cp  trestbps  chol  fbs  restecg  thalach  exang  oldpeak  \\\n",
       "0    69    1   0       160   234    1        2      131      0      0.1   \n",
       "1    69    0   0       140   239    0        0      151      0      1.8   \n",
       "2    66    0   0       150   226    0        0      114      0      2.6   \n",
       "3    65    1   0       138   282    1        2      174      0      1.4   \n",
       "4    64    1   0       110   211    0        2      144      1      1.8   \n",
       "..  ...  ...  ..       ...   ...  ...      ...      ...    ...      ...   \n",
       "95   60    0   2       120   178    1        0       96      0      0.0   \n",
       "96   59    1   2       126   218    1        0      134      0      2.2   \n",
       "97   59    1   2       150   212    1        0      157      0      1.6   \n",
       "98   58    1   2       112   230    0        2      165      0      2.5   \n",
       "99   58    1   2       105   240    0        2      154      1      0.6   \n",
       "\n",
       "    slope  ca  thal  condition  \n",
       "0       1   1     0          0  \n",
       "1       0   2     0          0  \n",
       "2       2   0     0          0  \n",
       "3       1   1     0          1  \n",
       "4       1   0     0          0  \n",
       "..    ...  ..   ...        ...  \n",
       "95      0   0     0          0  \n",
       "96      1   1     1          1  \n",
       "97      0   0     0          0  \n",
       "98      1   1     2          1  \n",
       "99      1   0     2          0  \n",
       "\n",
       "[100 rows x 14 columns]"
      ]
     },
     "execution_count": 9,
     "metadata": {},
     "output_type": "execute_result"
    }
   ],
   "source": [
    "# Realizamos lectura de los Datos para el análisis exploratorio\n",
    "dataset.head(100)"
   ]
  },
  {
   "cell_type": "code",
   "execution_count": 10,
   "id": "cb3beb3c-d470-45d4-8e75-f5984fbbfa87",
   "metadata": {},
   "outputs": [
    {
     "data": {
      "text/html": [
       "<div>\n",
       "<style scoped>\n",
       "    .dataframe tbody tr th:only-of-type {\n",
       "        vertical-align: middle;\n",
       "    }\n",
       "\n",
       "    .dataframe tbody tr th {\n",
       "        vertical-align: top;\n",
       "    }\n",
       "\n",
       "    .dataframe thead th {\n",
       "        text-align: right;\n",
       "    }\n",
       "</style>\n",
       "<table border=\"1\" class=\"dataframe\">\n",
       "  <thead>\n",
       "    <tr style=\"text-align: right;\">\n",
       "      <th></th>\n",
       "      <th>age</th>\n",
       "      <th>sex</th>\n",
       "      <th>cp</th>\n",
       "      <th>trestbps</th>\n",
       "      <th>chol</th>\n",
       "      <th>fbs</th>\n",
       "      <th>restecg</th>\n",
       "      <th>thalach</th>\n",
       "      <th>exang</th>\n",
       "      <th>oldpeak</th>\n",
       "      <th>slope</th>\n",
       "      <th>ca</th>\n",
       "      <th>thal</th>\n",
       "      <th>condition</th>\n",
       "    </tr>\n",
       "  </thead>\n",
       "  <tbody>\n",
       "    <tr>\n",
       "      <th>count</th>\n",
       "      <td>297.000000</td>\n",
       "      <td>297.000000</td>\n",
       "      <td>297.000000</td>\n",
       "      <td>297.000000</td>\n",
       "      <td>297.000000</td>\n",
       "      <td>297.000000</td>\n",
       "      <td>297.000000</td>\n",
       "      <td>297.000000</td>\n",
       "      <td>297.000000</td>\n",
       "      <td>297.000000</td>\n",
       "      <td>297.000000</td>\n",
       "      <td>297.000000</td>\n",
       "      <td>297.000000</td>\n",
       "      <td>297.000000</td>\n",
       "    </tr>\n",
       "    <tr>\n",
       "      <th>mean</th>\n",
       "      <td>54.542088</td>\n",
       "      <td>0.676768</td>\n",
       "      <td>2.158249</td>\n",
       "      <td>131.693603</td>\n",
       "      <td>247.350168</td>\n",
       "      <td>0.144781</td>\n",
       "      <td>0.996633</td>\n",
       "      <td>149.599327</td>\n",
       "      <td>0.326599</td>\n",
       "      <td>1.055556</td>\n",
       "      <td>0.602694</td>\n",
       "      <td>0.676768</td>\n",
       "      <td>0.835017</td>\n",
       "      <td>0.461279</td>\n",
       "    </tr>\n",
       "    <tr>\n",
       "      <th>std</th>\n",
       "      <td>9.049736</td>\n",
       "      <td>0.468500</td>\n",
       "      <td>0.964859</td>\n",
       "      <td>17.762806</td>\n",
       "      <td>51.997583</td>\n",
       "      <td>0.352474</td>\n",
       "      <td>0.994914</td>\n",
       "      <td>22.941562</td>\n",
       "      <td>0.469761</td>\n",
       "      <td>1.166123</td>\n",
       "      <td>0.618187</td>\n",
       "      <td>0.938965</td>\n",
       "      <td>0.956690</td>\n",
       "      <td>0.499340</td>\n",
       "    </tr>\n",
       "    <tr>\n",
       "      <th>min</th>\n",
       "      <td>29.000000</td>\n",
       "      <td>0.000000</td>\n",
       "      <td>0.000000</td>\n",
       "      <td>94.000000</td>\n",
       "      <td>126.000000</td>\n",
       "      <td>0.000000</td>\n",
       "      <td>0.000000</td>\n",
       "      <td>71.000000</td>\n",
       "      <td>0.000000</td>\n",
       "      <td>0.000000</td>\n",
       "      <td>0.000000</td>\n",
       "      <td>0.000000</td>\n",
       "      <td>0.000000</td>\n",
       "      <td>0.000000</td>\n",
       "    </tr>\n",
       "    <tr>\n",
       "      <th>25%</th>\n",
       "      <td>48.000000</td>\n",
       "      <td>0.000000</td>\n",
       "      <td>2.000000</td>\n",
       "      <td>120.000000</td>\n",
       "      <td>211.000000</td>\n",
       "      <td>0.000000</td>\n",
       "      <td>0.000000</td>\n",
       "      <td>133.000000</td>\n",
       "      <td>0.000000</td>\n",
       "      <td>0.000000</td>\n",
       "      <td>0.000000</td>\n",
       "      <td>0.000000</td>\n",
       "      <td>0.000000</td>\n",
       "      <td>0.000000</td>\n",
       "    </tr>\n",
       "    <tr>\n",
       "      <th>50%</th>\n",
       "      <td>56.000000</td>\n",
       "      <td>1.000000</td>\n",
       "      <td>2.000000</td>\n",
       "      <td>130.000000</td>\n",
       "      <td>243.000000</td>\n",
       "      <td>0.000000</td>\n",
       "      <td>1.000000</td>\n",
       "      <td>153.000000</td>\n",
       "      <td>0.000000</td>\n",
       "      <td>0.800000</td>\n",
       "      <td>1.000000</td>\n",
       "      <td>0.000000</td>\n",
       "      <td>0.000000</td>\n",
       "      <td>0.000000</td>\n",
       "    </tr>\n",
       "    <tr>\n",
       "      <th>75%</th>\n",
       "      <td>61.000000</td>\n",
       "      <td>1.000000</td>\n",
       "      <td>3.000000</td>\n",
       "      <td>140.000000</td>\n",
       "      <td>276.000000</td>\n",
       "      <td>0.000000</td>\n",
       "      <td>2.000000</td>\n",
       "      <td>166.000000</td>\n",
       "      <td>1.000000</td>\n",
       "      <td>1.600000</td>\n",
       "      <td>1.000000</td>\n",
       "      <td>1.000000</td>\n",
       "      <td>2.000000</td>\n",
       "      <td>1.000000</td>\n",
       "    </tr>\n",
       "    <tr>\n",
       "      <th>max</th>\n",
       "      <td>77.000000</td>\n",
       "      <td>1.000000</td>\n",
       "      <td>3.000000</td>\n",
       "      <td>200.000000</td>\n",
       "      <td>564.000000</td>\n",
       "      <td>1.000000</td>\n",
       "      <td>2.000000</td>\n",
       "      <td>202.000000</td>\n",
       "      <td>1.000000</td>\n",
       "      <td>6.200000</td>\n",
       "      <td>2.000000</td>\n",
       "      <td>3.000000</td>\n",
       "      <td>2.000000</td>\n",
       "      <td>1.000000</td>\n",
       "    </tr>\n",
       "  </tbody>\n",
       "</table>\n",
       "</div>"
      ],
      "text/plain": [
       "              age         sex          cp    trestbps        chol         fbs  \\\n",
       "count  297.000000  297.000000  297.000000  297.000000  297.000000  297.000000   \n",
       "mean    54.542088    0.676768    2.158249  131.693603  247.350168    0.144781   \n",
       "std      9.049736    0.468500    0.964859   17.762806   51.997583    0.352474   \n",
       "min     29.000000    0.000000    0.000000   94.000000  126.000000    0.000000   \n",
       "25%     48.000000    0.000000    2.000000  120.000000  211.000000    0.000000   \n",
       "50%     56.000000    1.000000    2.000000  130.000000  243.000000    0.000000   \n",
       "75%     61.000000    1.000000    3.000000  140.000000  276.000000    0.000000   \n",
       "max     77.000000    1.000000    3.000000  200.000000  564.000000    1.000000   \n",
       "\n",
       "          restecg     thalach       exang     oldpeak       slope          ca  \\\n",
       "count  297.000000  297.000000  297.000000  297.000000  297.000000  297.000000   \n",
       "mean     0.996633  149.599327    0.326599    1.055556    0.602694    0.676768   \n",
       "std      0.994914   22.941562    0.469761    1.166123    0.618187    0.938965   \n",
       "min      0.000000   71.000000    0.000000    0.000000    0.000000    0.000000   \n",
       "25%      0.000000  133.000000    0.000000    0.000000    0.000000    0.000000   \n",
       "50%      1.000000  153.000000    0.000000    0.800000    1.000000    0.000000   \n",
       "75%      2.000000  166.000000    1.000000    1.600000    1.000000    1.000000   \n",
       "max      2.000000  202.000000    1.000000    6.200000    2.000000    3.000000   \n",
       "\n",
       "             thal   condition  \n",
       "count  297.000000  297.000000  \n",
       "mean     0.835017    0.461279  \n",
       "std      0.956690    0.499340  \n",
       "min      0.000000    0.000000  \n",
       "25%      0.000000    0.000000  \n",
       "50%      0.000000    0.000000  \n",
       "75%      2.000000    1.000000  \n",
       "max      2.000000    1.000000  "
      ]
     },
     "execution_count": 10,
     "metadata": {},
     "output_type": "execute_result"
    }
   ],
   "source": [
    "# Descripción de los datos\n",
    "dataset.describe()"
   ]
  },
  {
   "cell_type": "code",
   "execution_count": 18,
   "id": "c4ff0eee-a877-4eaa-b178-fc9d320ab1af",
   "metadata": {},
   "outputs": [
    {
     "data": {
      "text/plain": [
       "Text(0.5, 1.0, 'Identificación de Datos Faltantes y  Valores Atípicos colesterol ')"
      ]
     },
     "execution_count": 18,
     "metadata": {},
     "output_type": "execute_result"
    },
    {
     "data": {
      "image/png": "[encoded data removed]",
      "text/plain": [
       "<Figure size 700x300 with 1 Axes>"
      ]
     },
     "metadata": {},
     "output_type": "display_data"
    }
   ],
   "source": [
    "#Identificación de Datos Faltantes y Atípicos\n",
    "plt.figure(figsize=(7, 3))\n",
    "sns.boxplot(x=dataset['chol'])\n",
    "plt.title('Identificación de Datos Faltantes y  Valores Atípicos colesterol ', fontsize=10 )"
   ]
  },
  {
   "cell_type": "code",
   "execution_count": 13,
   "id": "0fba9271-8697-4ee0-a3a2-5dd3716bf14c",
   "metadata": {},
   "outputs": [
    {
     "data": {
      "text/plain": [
       "Text(0.5, 1.0, 'Identificación de Datos Faltantes y  Valores Atípicos Medida de presión arterial en reposo ')"
      ]
     },
     "execution_count": 13,
     "metadata": {},
     "output_type": "execute_result"
    },
    {
     "data": {
      "image/png": "[encoded data removed]",
      "text/plain": [
       "<Figure size 700x300 with 1 Axes>"
      ]
     },
     "metadata": {},
     "output_type": "display_data"
    }
   ],
   "source": [
    "#Identificación de Datos Faltantes y Atípicos\n",
    "plt.figure(figsize=(7, 3))\n",
    "sns.boxplot(x=dataset['trestbps'])\n",
    "plt.title('Identificación de Datos Faltantes y  Valores Atípicos Medida de presión arterial en reposo ', fontsize=10 )"
   ]
  },
  {
   "cell_type": "code",
   "execution_count": 14,
   "id": "3a0de945-f47c-4921-b28e-0d87576ef820",
   "metadata": {},
   "outputs": [
    {
     "data": {
      "text/plain": [
       "Text(0.5, 1.0, 'Identificación de Datos Faltantes y  Valores Atípicos Frecuencia cardíaca máxima')"
      ]
     },
     "execution_count": 14,
     "metadata": {},
     "output_type": "execute_result"
    },
    {
     "data": {
      "image/png": "[encoded data removed]",
      "text/plain": [
       "<Figure size 700x300 with 1 Axes>"
      ]
     },
     "metadata": {},
     "output_type": "display_data"
    }
   ],
   "source": [
    "#Identificación de Datos Faltantes y Atípicos\n",
    "plt.figure(figsize=(7, 3))\n",
    "sns.boxplot(x=dataset['thalach'])\n",
    "plt.title('Identificación de Datos Faltantes y  Valores Atípicos Frecuencia cardíaca máxima', fontsize=10 )"
   ]
  },
  {
   "cell_type": "markdown",
   "id": "4448f53a-15d2-4128-a484-ea0d5212233b",
   "metadata": {},
   "source": [
    "## 2. Preprocesar los datos limpiándolos, tratando valores faltantes y transformándolos según sea necesario.  "
   ]
  },
  {
   "cell_type": "code",
   "execution_count": 16,
   "id": "b655679e-2d89-4968-911e-363f80369280",
   "metadata": {},
   "outputs": [
    {
     "name": "stdout",
     "output_type": "stream",
     "text": [
      "Cantidad de Registros con cero en age:  0\n",
      "Cantidad de Registros con cero en trestbps:  0\n",
      "Cantidad de Registros con cero en chol:  0\n",
      "Cantidad de Registros con cero en thalach:  0\n",
      "Cantidad de Registros con cero en oldpeak:  96\n"
     ]
    }
   ],
   "source": [
    "#Revisión de datos faltantes\n",
    "print(\"Cantidad de Registros con cero en age: \",dataset['age'].isin([0]).sum())\n",
    "print(\"Cantidad de Registros con cero en trestbps: \",dataset['trestbps'].isin([0]).sum())\n",
    "print(\"Cantidad de Registros con cero en chol: \",dataset['chol'].isin([0]).sum())\n",
    "print(\"Cantidad de Registros con cero en thalach: \",dataset['thalach'].isin([0]).sum())\n",
    "print(\"Cantidad de Registros con cero en oldpeak: \",dataset['oldpeak'].isin([0]).sum()) "
   ]
  },
  {
   "cell_type": "code",
   "execution_count": 21,
   "id": "35b28447-2ca5-4c76-a29a-cf9f9792861a",
   "metadata": {},
   "outputs": [],
   "source": [
    "# Remplazar datos faltantes\n",
    "dataset['oldpeak']=dataset['oldpeak'].replace(0,dataset['oldpeak'].mean())"
   ]
  },
  {
   "cell_type": "code",
   "execution_count": 22,
   "id": "3fd37786-eaaa-4497-a9ff-570d8907dccc",
   "metadata": {},
   "outputs": [
    {
     "name": "stdout",
     "output_type": "stream",
     "text": [
      "Cantidad de Registros con cero en oldpeak:  0\n"
     ]
    }
   ],
   "source": [
    "#Revisión nuevamente de datos faltantes\n",
    "print(\"Cantidad de Registros con cero en oldpeak: \",dataset['oldpeak'].isin([0]).sum())"
   ]
  },
  {
   "cell_type": "code",
   "execution_count": 24,
   "id": "4cde95c6-8837-4728-bdbc-2ce0cbec1191",
   "metadata": {},
   "outputs": [
    {
     "name": "stdout",
     "output_type": "stream",
     "text": [
      "El total de datos atípicos es 5\n"
     ]
    }
   ],
   "source": [
    "#Conteo de Datos Atípico\n",
    "nivel_minimo=50\n",
    "nivel_maximo=370\n",
    "Total_Atipicos=((dataset['chol']<nivel_minimo)|(dataset['chol']>nivel_maximo)).sum()\n",
    "print(\"El total de datos atípicos es {}\".format(Total_Atipicos))"
   ]
  },
  {
   "cell_type": "code",
   "execution_count": 25,
   "id": "d00e5576-dbe4-4a4f-8f81-419f3ca5ee47",
   "metadata": {},
   "outputs": [],
   "source": [
    "# Filtra Datos Atípicos\n",
    "dataset=dataset[(dataset['chol']<nivel_maximo)&(dataset['chol']>nivel_minimo)]"
   ]
  },
  {
   "cell_type": "code",
   "execution_count": 26,
   "id": "e8a308d7-ae38-4f5d-839b-006aa1a7253c",
   "metadata": {},
   "outputs": [
    {
     "name": "stdout",
     "output_type": "stream",
     "text": [
      "El total de datos atípicos es 0\n"
     ]
    }
   ],
   "source": [
    "# Validar si se removieron los datos atípicos\n",
    "Total_Atipicos=((dataset['chol']<nivel_minimo)|(dataset['chol']>nivel_maximo)).sum()\n",
    "print(\"El total de datos atípicos es {}\".format(Total_Atipicos))"
   ]
  },
  {
   "cell_type": "code",
   "execution_count": 27,
   "id": "5ce3d8cb-2f02-449c-8f49-a04b10aa59f7",
   "metadata": {},
   "outputs": [
    {
     "name": "stdout",
     "output_type": "stream",
     "text": [
      "El total de datos atípicos es 9\n"
     ]
    }
   ],
   "source": [
    "#Conteo de Datos Atípico\n",
    "nivel_minimo=80\n",
    "nivel_maximo=170\n",
    "Total_Atipicos=((dataset['trestbps']<nivel_minimo)|(dataset['trestbps']>nivel_maximo)).sum()\n",
    "print(\"El total de datos atípicos es {}\".format(Total_Atipicos))"
   ]
  },
  {
   "cell_type": "code",
   "execution_count": 29,
   "id": "d15cc2f9-abf1-432b-a76d-78c493c7cd6f",
   "metadata": {},
   "outputs": [],
   "source": [
    "# Filtra Datos atípicos\n",
    "dataset=dataset[(dataset['trestbps']<nivel_maximo)&(dataset['trestbps']>nivel_minimo)]"
   ]
  },
  {
   "cell_type": "code",
   "execution_count": 30,
   "id": "8041ad31-4251-4f94-9c3d-1a99b2bc8fe2",
   "metadata": {},
   "outputs": [
    {
     "name": "stdout",
     "output_type": "stream",
     "text": [
      "El total de datos atípicos es 0\n"
     ]
    }
   ],
   "source": [
    "# Validar si se removieron los datos atípicos\n",
    "Total_Atipicos=((dataset['trestbps']<nivel_minimo)|(dataset['trestbps']>nivel_maximo)).sum()\n",
    "print(\"El total de datos atípicos es {}\".format(Total_Atipicos))"
   ]
  },
  {
   "cell_type": "code",
   "execution_count": 31,
   "id": "e19ea9dd-472c-4c59-b502-a44c79b1e531",
   "metadata": {},
   "outputs": [
    {
     "name": "stdout",
     "output_type": "stream",
     "text": [
      "<class 'pandas.core.frame.DataFrame'>\n",
      "Index: 279 entries, 0 to 296\n",
      "Data columns (total 14 columns):\n",
      " #   Column     Non-Null Count  Dtype  \n",
      "---  ------     --------------  -----  \n",
      " 0   age        279 non-null    int64  \n",
      " 1   sex        279 non-null    int64  \n",
      " 2   cp         279 non-null    int64  \n",
      " 3   trestbps   279 non-null    int64  \n",
      " 4   chol       279 non-null    int64  \n",
      " 5   fbs        279 non-null    int64  \n",
      " 6   restecg    279 non-null    int64  \n",
      " 7   thalach    279 non-null    int64  \n",
      " 8   exang      279 non-null    int64  \n",
      " 9   oldpeak    279 non-null    float64\n",
      " 10  slope      279 non-null    int64  \n",
      " 11  ca         279 non-null    int64  \n",
      " 12  thal       279 non-null    int64  \n",
      " 13  condition  279 non-null    int64  \n",
      "dtypes: float64(1), int64(13)\n",
      "memory usage: 32.7 KB\n"
     ]
    }
   ],
   "source": [
    "#Revisión del tipo de datos y datos faltantes\n",
    "dataset.info()"
   ]
  },
  {
   "cell_type": "markdown",
   "id": "0a2fbc52-463c-451c-bb34-a49025bf9ad4",
   "metadata": {},
   "source": [
    "## 3. Seleccionar las características más relevantes para entrenar el modelo utilizando selección de características. "
   ]
  },
  {
   "cell_type": "markdown",
   "id": "f6642352-d489-494a-92a5-25da29a8971f",
   "metadata": {},
   "source": [
    "### Característica de interes:"
   ]
  },
  {
   "cell_type": "markdown",
   "id": "4f93224c-c8b7-40d2-812c-f06bc2686ea9",
   "metadata": {},
   "source": [
    " * Condition: Si la persona tiene enfermedad cardiaca o no (0 = no tiene enfermedad cardiaca - 1 = si tiene enfermedad cardiaca)tes"
   ]
  },
  {
   "cell_type": "code",
   "execution_count": 34,
   "id": "3ba3104b-d2db-4676-84a3-922554b4557f",
   "metadata": {},
   "outputs": [
    {
     "data": {
      "text/plain": [
       "condition\n",
       "0    153\n",
       "1    126\n",
       "Name: count, dtype: int64"
      ]
     },
     "execution_count": 34,
     "metadata": {},
     "output_type": "execute_result"
    }
   ],
   "source": [
    "# Total de personas con Enfermedades cardiacas\n",
    "dataset['condition'].value_counts()"
   ]
  },
  {
   "cell_type": "code",
   "execution_count": 39,
   "id": "a246f47b-ac4e-4305-9a52-533e067a5adb",
   "metadata": {},
   "outputs": [
    {
     "data": {
      "text/html": [
       "<div>\n",
       "<style scoped>\n",
       "    .dataframe tbody tr th:only-of-type {\n",
       "        vertical-align: middle;\n",
       "    }\n",
       "\n",
       "    .dataframe tbody tr th {\n",
       "        vertical-align: top;\n",
       "    }\n",
       "\n",
       "    .dataframe thead th {\n",
       "        text-align: right;\n",
       "    }\n",
       "</style>\n",
       "<table border=\"1\" class=\"dataframe\">\n",
       "  <thead>\n",
       "    <tr style=\"text-align: right;\">\n",
       "      <th></th>\n",
       "      <th>condition</th>\n",
       "    </tr>\n",
       "  </thead>\n",
       "  <tbody>\n",
       "    <tr>\n",
       "      <th>0</th>\n",
       "      <td>0</td>\n",
       "    </tr>\n",
       "    <tr>\n",
       "      <th>1</th>\n",
       "      <td>0</td>\n",
       "    </tr>\n",
       "    <tr>\n",
       "      <th>2</th>\n",
       "      <td>0</td>\n",
       "    </tr>\n",
       "    <tr>\n",
       "      <th>3</th>\n",
       "      <td>1</td>\n",
       "    </tr>\n",
       "    <tr>\n",
       "      <th>4</th>\n",
       "      <td>0</td>\n",
       "    </tr>\n",
       "    <tr>\n",
       "      <th>...</th>\n",
       "      <td>...</td>\n",
       "    </tr>\n",
       "    <tr>\n",
       "      <th>102</th>\n",
       "      <td>0</td>\n",
       "    </tr>\n",
       "    <tr>\n",
       "      <th>103</th>\n",
       "      <td>1</td>\n",
       "    </tr>\n",
       "    <tr>\n",
       "      <th>104</th>\n",
       "      <td>0</td>\n",
       "    </tr>\n",
       "    <tr>\n",
       "      <th>105</th>\n",
       "      <td>0</td>\n",
       "    </tr>\n",
       "    <tr>\n",
       "      <th>106</th>\n",
       "      <td>1</td>\n",
       "    </tr>\n",
       "  </tbody>\n",
       "</table>\n",
       "<p>100 rows × 1 columns</p>\n",
       "</div>"
      ],
      "text/plain": [
       "     condition\n",
       "0            0\n",
       "1            0\n",
       "2            0\n",
       "3            1\n",
       "4            0\n",
       "..         ...\n",
       "102          0\n",
       "103          1\n",
       "104          0\n",
       "105          0\n",
       "106          1\n",
       "\n",
       "[100 rows x 1 columns]"
      ]
     },
     "execution_count": 39,
     "metadata": {},
     "output_type": "execute_result"
    }
   ],
   "source": [
    "dataset[['condition']].head(100)"
   ]
  },
  {
   "cell_type": "markdown",
   "id": "ea7bdab4-fa0b-4dff-a604-4502537d533d",
   "metadata": {},
   "source": [
    "## 4. Dividir el dataset en Train y Test para evaluar correctamente el modelo. "
   ]
  },
  {
   "cell_type": "code",
   "execution_count": 41,
   "id": "5d8add51-a5d7-4ea6-bbcb-e9f97e43a713",
   "metadata": {},
   "outputs": [],
   "source": [
    "X = dataset.drop('condition',axis=1) # Se cargan los datos de train sin los datos de la columna condition\n",
    "Y = dataset['condition'] # Se cargan los datos de train con los datos de la la columna condition\n",
    "\n",
    "#La función train_test_split crea una división de un conjunto de datos en dos bloques uno de entrenamiento y otro de prueba (train and test)\n",
    "X_train, X_test, Y_train, Y_test = train_test_split(X, Y, test_size=0.25, stratify=Y, random_state= 0)"
   ]
  },
  {
   "cell_type": "code",
   "execution_count": 42,
   "id": "656af5b4-a71b-4c3d-a202-d815ed347f7a",
   "metadata": {},
   "outputs": [
    {
     "name": "stdout",
     "output_type": "stream",
     "text": [
      "     age  sex  cp  trestbps  chol  fbs  restecg  thalach  exang   oldpeak  \\\n",
      "21    38    1   0       120   231    0        0      182      1  3.800000   \n",
      "56    45    0   1       130   234    0        2      175      0  0.600000   \n",
      "203   60    1   3       117   230    1        0      160      1  1.400000   \n",
      "150   39    0   2       138   220    0        0      152      0  1.055556   \n",
      "126   50    1   2       140   233    0        0      163      0  0.600000   \n",
      "..   ...  ...  ..       ...   ...  ...      ...      ...    ...       ...   \n",
      "82    66    0   2       146   278    0        2      152      0  1.055556   \n",
      "19    42    1   0       148   244    0        2      178      0  0.800000   \n",
      "99    58    1   2       105   240    0        2      154      1  0.600000   \n",
      "12    59    1   0       134   204    0        0      162      0  0.800000   \n",
      "217   58    1   3       146   218    0        0      105      0  2.000000   \n",
      "\n",
      "     slope  ca  thal  \n",
      "21       1   0     2  \n",
      "56       1   0     0  \n",
      "203      0   2     2  \n",
      "150      1   0     0  \n",
      "126      1   1     2  \n",
      "..     ...  ..   ...  \n",
      "82       1   1     0  \n",
      "19       0   2     0  \n",
      "99       1   0     2  \n",
      "12       0   2     0  \n",
      "217      1   1     2  \n",
      "\n",
      "[209 rows x 13 columns]\n"
     ]
    }
   ],
   "source": [
    "print (X_train)"
   ]
  },
  {
   "cell_type": "code",
   "execution_count": 43,
   "id": "38ef627a-fbb0-4bd4-b0b2-39e91c76a9b1",
   "metadata": {},
   "outputs": [
    {
     "name": "stdout",
     "output_type": "stream",
     "text": [
      "21     1\n",
      "56     0\n",
      "203    1\n",
      "150    0\n",
      "126    1\n",
      "      ..\n",
      "82     0\n",
      "19     0\n",
      "99     0\n",
      "12     1\n",
      "217    1\n",
      "Name: condition, Length: 209, dtype: int64\n"
     ]
    }
   ],
   "source": [
    "print (Y_train)"
   ]
  },
  {
   "cell_type": "markdown",
   "id": "b741eb85-7ae3-42c3-9b9f-9b10d5afd62b",
   "metadata": {},
   "source": [
    "## 5. Entrenar el modelo configurando los diferentes hiperparámetros. "
   ]
  },
  {
   "cell_type": "code",
   "execution_count": 45,
   "id": "5292fd45-2f64-4982-8e53-eb17328ce967",
   "metadata": {},
   "outputs": [],
   "source": [
    "# Construir el modelo de regresión logística \n",
    "#modelo de regresion logistica\n",
    "modelo_regresion = LogisticRegression(solver = \"liblinear\") \n",
    "modelo_regresion.fit (X_train , Y_train)   \n",
    "\n",
    "# Crea el modelo de prediccion\n",
    "Prediccion = modelo_regresion.predict(X_test) "
   ]
  },
  {
   "cell_type": "code",
   "execution_count": 46,
   "id": "06953a86-58b1-4a63-b07e-4932793da086",
   "metadata": {},
   "outputs": [
    {
     "name": "stdout",
     "output_type": "stream",
     "text": [
      "197    1\n",
      "87     1\n",
      "192    1\n",
      "48     0\n",
      "122    0\n",
      "      ..\n",
      "52     1\n",
      "157    1\n",
      "106    1\n",
      "96     1\n",
      "210    1\n",
      "Name: condition, Length: 70, dtype: int64\n"
     ]
    }
   ],
   "source": [
    "print (Y_test)"
   ]
  },
  {
   "cell_type": "code",
   "execution_count": 47,
   "id": "68828ca6-b1d6-487d-bfb4-2fb7c39ab08b",
   "metadata": {},
   "outputs": [
    {
     "name": "stdout",
     "output_type": "stream",
     "text": [
      "[1 0 1 0 0 0 0 1 0 0 1 0 1 0 1 0 0 1 0 0 1 0 0 1 0 1 0 0 0 0 0 1 0 0 0 0 1\n",
      " 1 1 0 0 1 0 0 1 0 0 1 1 0 1 1 1 0 0 1 1 0 0 0 0 0 0 1 0 0 1 1 1 1]\n"
     ]
    }
   ],
   "source": [
    "print (Prediccion)"
   ]
  },
  {
   "cell_type": "markdown",
   "id": "6e2eed14-98b2-4729-9bb9-79c62d58c2b8",
   "metadata": {},
   "source": [
    "##  6. Evaluar el desempeño del modelo en el conjunto de Test con métricas como precisión, recall, F1-score, etc. "
   ]
  },
  {
   "cell_type": "code",
   "execution_count": 48,
   "id": "01fd1b5b-3731-4f30-af62-fdc0fc9fa71f",
   "metadata": {},
   "outputs": [
    {
     "name": "stdout",
     "output_type": "stream",
     "text": [
      "              precision    recall  f1-score   support\n",
      "\n",
      "           0       0.86      0.95      0.90        38\n",
      "           1       0.93      0.81      0.87        32\n",
      "\n",
      "    accuracy                           0.89        70\n",
      "   macro avg       0.89      0.88      0.88        70\n",
      "weighted avg       0.89      0.89      0.88        70\n",
      "\n"
     ]
    }
   ],
   "source": [
    "# Desempeño del modelo de regresión\n",
    "\n",
    "print(classification_report(Y_test,Prediccion))"
   ]
  },
  {
   "cell_type": "markdown",
   "id": "19aa650f-f05a-4f70-a1a1-c2a74862512d",
   "metadata": {},
   "source": [
    "## 7. Realizar las diferentes gráficas que permitan visualizar los resultados del modelo."
   ]
  },
  {
   "cell_type": "code",
   "execution_count": 51,
   "id": "33417eb6-9742-42f8-bfa1-1b9016f6044c",
   "metadata": {},
   "outputs": [
    {
     "data": {
      "text/plain": [
       "<sklearn.metrics._plot.confusion_matrix.ConfusionMatrixDisplay at 0x29891a112e0>"
      ]
     },
     "execution_count": 51,
     "metadata": {},
     "output_type": "execute_result"
    },
    {
     "data": {
      "image/png": "[encoded data removed]",
      "text/plain": [
       "<Figure size 640x480 with 2 Axes>"
      ]
     },
     "metadata": {},
     "output_type": "display_data"
    }
   ],
   "source": [
    "#Matrix de Confusión del modelo\n",
    "\n",
    "cm=confusion_matrix(Y_test,Prediccion)\n",
    "disp=metrics.ConfusionMatrixDisplay(confusion_matrix=cm)\n",
    "disp.plot()"
   ]
  },
  {
   "cell_type": "code",
   "execution_count": 54,
   "id": "547af4de-cd83-4eb2-a140-f4021989a6a7",
   "metadata": {},
   "outputs": [
    {
     "data": {
      "image/png": "[encoded data removed]",
      "text/plain": [
       "<Figure size 640x480 with 1 Axes>"
      ]
     },
     "metadata": {},
     "output_type": "display_data"
    }
   ],
   "source": [
    "#curva de precisión \n",
    "from sklearn.metrics import RocCurveDisplay\n",
    "RocCurveDisplay.from_predictions(Y_test, Prediccion)\n",
    "plt.show()"
   ]
  },
  {
   "cell_type": "markdown",
   "id": "84eb5835-f54f-4218-b0b7-0b8ee9a39da3",
   "metadata": {},
   "source": [
    "## 8. Interpretar, analizar y documentar los resultados obtenidos. "
   ]
  },
  {
   "cell_type": "markdown",
   "id": "fae9ddb6-8b7d-42fb-8d89-6dcd60333500",
   "metadata": {},
   "source": [
    "#### Del modelo podemos describir lo siguiente:"
   ]
  },
  {
   "cell_type": "markdown",
   "id": "add0a5ec-660c-4a29-8a48-21a110aa9c84",
   "metadata": {},
   "source": [
    "* La precisión se refiere a la proporción de predicciones correctas para la clase positiva en comparación con todas las predicciones emitidas para esa clase. En el caso de la clase condition , la precisión es del 93%, lo que significa que, de todos los casos que el modelo clasificó como enfermos cardíacos, el 93% resulto ser correcto."
   ]
  },
  {
   "cell_type": "markdown",
   "id": "0a45c2ae-1ccf-4514-9d7b-810d360a66c7",
   "metadata": {},
   "source": [
    "* Recall  tasa de verdaderos positivos, mide la capacidad del modelo para identificar correctamente las instancias positivas reales entre todas las instancias positivas del conjunto de datos. En este caso, el recall es del 81%, lo que indica que el modelo identificó correctamente al 81% de los enfermos cardíacos presentes en el conjunto."
   ]
  },
  {
   "cell_type": "markdown",
   "id": "57dbd9e2-a91b-4d35-bf4d-50fc74b267fb",
   "metadata": {},
   "source": [
    "* El F1 Score es una métrica que combina precisión y recuperación, ofreciendo una medida más equilibrada del desempeño. Para la clase condition , el F1 Score es de 0.87, lo que sugiere un equilibrio adecuado entre precisión y recuperación, reflejando la capacidad del modelo para identificar con precisión y exhaustividad los casos de enfermedad cardíaca."
   ]
  },
  {
   "cell_type": "markdown",
   "id": "335ca01b-6890-4ffe-8063-905dda791843",
   "metadata": {},
   "source": [
    "#### Respecto a la matriz de confusión se puede interpretar lo siguiente:"
   ]
  },
  {
   "cell_type": "markdown",
   "id": "a65b8841-6a72-4eef-a8e6-846094783494",
   "metadata": {},
   "source": [
    "* Verdaderos negativos : 36 observaciones fueron correctamente identificadas como negativas por el modelo."
   ]
  },
  {
   "cell_type": "markdown",
   "id": "3d626280-39d0-4683-aecd-433eb5a24f0e",
   "metadata": {},
   "source": [
    "* Verdaderos positivos : 26 observaciones fueron correctamente identificadas como positivas."
   ]
  },
  {
   "cell_type": "markdown",
   "id": "c4da7790-9bac-431d-ba58-20d16fbc2cc3",
   "metadata": {},
   "source": [
    "* Falsos positivos : El modelo identificó incorrectamente 2 observaciones como positivas cuando en realidad eran negativas."
   ]
  },
  {
   "cell_type": "markdown",
   "id": "5c337ec1-82e5-43a0-ae7c-8a4f661358db",
   "metadata": {},
   "source": [
    "* Falsos negativos : 6 observaciones fueron clasificadas incorrectamente como negativas cuando en realidad eran positivas."
   ]
  },
  {
   "cell_type": "markdown",
   "id": "c125d542-ca59-45ac-921c-9599642a1083",
   "metadata": {},
   "source": [
    "#### De la curva de precisión se puede interpretar lo siguiente:"
   ]
  },
  {
   "cell_type": "markdown",
   "id": "c38193ca-8b7c-4977-9ee6-dab77d4e6658",
   "metadata": {},
   "source": [
    "* Al analizar la curva de precisión del modelo, observamos que el AUC (Área Bajo la Curva) es de 0.88, lo que indica que el 88% de las predicciones del clasificador fueron correctas en diversos umbrales de clasificación. Este valor cercano a 1 refleja una buena capacidad del modelo para distinguir entre clases positivas y negativas."
   ]
  },
  {
   "cell_type": "code",
   "execution_count": null,
   "id": "265a3dee-6cea-41cb-8aad-151d8b76a38b",
   "metadata": {},
   "outputs": [],
   "source": []
  }
 ],
 "metadata": {
  "kernelspec": {
   "display_name": "Python 3 (ipykernel)",
   "language": "python",
   "name": "python3"
  },
  "language_info": {
   "codemirror_mode": {
    "name": "ipython",
    "version": 3
   },
   "file_extension": ".py",
   "mimetype": "text/x-python",
   "name": "python",
   "nbconvert_exporter": "python",
   "pygments_lexer": "ipython3",
   "version": "3.12.4"
  }
 },
 "nbformat": 4,
 "nbformat_minor": 5
}
